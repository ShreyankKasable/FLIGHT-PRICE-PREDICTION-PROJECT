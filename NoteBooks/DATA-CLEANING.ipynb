{
 "cells": [
  {
   "cell_type": "code",
   "execution_count": 1,
   "id": "3e88fe85",
   "metadata": {},
   "outputs": [
    {
     "name": "stderr",
     "output_type": "stream",
     "text": [
      "C:\\Users\\shrey\\anaconda3\\lib\\site-packages\\pandas\\core\\arrays\\masked.py:60: UserWarning: Pandas requires version '1.3.6' or newer of 'bottleneck' (version '1.3.5' currently installed).\n",
      "  from pandas.core import (\n"
     ]
    }
   ],
   "source": [
    "import pandas as pd\n",
    "import os\n",
    "import warnings\n",
    "warnings.filterwarnings(\"ignore\")"
   ]
  },
  {
   "cell_type": "code",
   "execution_count": 164,
   "id": "b8d32d75",
   "metadata": {},
   "outputs": [],
   "source": [
    "df = pd.read_csv(\"flight_price.csv\")"
   ]
  },
  {
   "cell_type": "code",
   "execution_count": 42,
   "id": "8f5b1b88",
   "metadata": {},
   "outputs": [
    {
     "data": {
      "text/html": [
       "<div>\n",
       "<style scoped>\n",
       "    .dataframe tbody tr th:only-of-type {\n",
       "        vertical-align: middle;\n",
       "    }\n",
       "\n",
       "    .dataframe tbody tr th {\n",
       "        vertical-align: top;\n",
       "    }\n",
       "\n",
       "    .dataframe thead th {\n",
       "        text-align: right;\n",
       "    }\n",
       "</style>\n",
       "<table border=\"1\" class=\"dataframe\">\n",
       "  <thead>\n",
       "    <tr style=\"text-align: right;\">\n",
       "      <th></th>\n",
       "      <th>Airline</th>\n",
       "      <th>Date_of_Journey</th>\n",
       "      <th>Source</th>\n",
       "      <th>Destination</th>\n",
       "      <th>Route</th>\n",
       "      <th>Dep_Time</th>\n",
       "      <th>Arrival_Time</th>\n",
       "      <th>Duration</th>\n",
       "      <th>Total_Stops</th>\n",
       "      <th>Additional_Info</th>\n",
       "      <th>Price</th>\n",
       "    </tr>\n",
       "  </thead>\n",
       "  <tbody>\n",
       "    <tr>\n",
       "      <th>0</th>\n",
       "      <td>IndiGo</td>\n",
       "      <td>24/03/2019</td>\n",
       "      <td>Banglore</td>\n",
       "      <td>New Delhi</td>\n",
       "      <td>BLR → DEL</td>\n",
       "      <td>22:20</td>\n",
       "      <td>01:10 22 Mar</td>\n",
       "      <td>2h 50m</td>\n",
       "      <td>non-stop</td>\n",
       "      <td>No info</td>\n",
       "      <td>3897</td>\n",
       "    </tr>\n",
       "    <tr>\n",
       "      <th>1</th>\n",
       "      <td>Air India</td>\n",
       "      <td>1/05/2019</td>\n",
       "      <td>Kolkata</td>\n",
       "      <td>Banglore</td>\n",
       "      <td>CCU → IXR → BBI → BLR</td>\n",
       "      <td>05:50</td>\n",
       "      <td>13:15</td>\n",
       "      <td>7h 25m</td>\n",
       "      <td>2 stops</td>\n",
       "      <td>No info</td>\n",
       "      <td>7662</td>\n",
       "    </tr>\n",
       "    <tr>\n",
       "      <th>2</th>\n",
       "      <td>Jet Airways</td>\n",
       "      <td>9/06/2019</td>\n",
       "      <td>Delhi</td>\n",
       "      <td>Cochin</td>\n",
       "      <td>DEL → LKO → BOM → COK</td>\n",
       "      <td>09:25</td>\n",
       "      <td>04:25 10 Jun</td>\n",
       "      <td>19h</td>\n",
       "      <td>2 stops</td>\n",
       "      <td>No info</td>\n",
       "      <td>13882</td>\n",
       "    </tr>\n",
       "    <tr>\n",
       "      <th>3</th>\n",
       "      <td>IndiGo</td>\n",
       "      <td>12/05/2019</td>\n",
       "      <td>Kolkata</td>\n",
       "      <td>Banglore</td>\n",
       "      <td>CCU → NAG → BLR</td>\n",
       "      <td>18:05</td>\n",
       "      <td>23:30</td>\n",
       "      <td>5h 25m</td>\n",
       "      <td>1 stop</td>\n",
       "      <td>No info</td>\n",
       "      <td>6218</td>\n",
       "    </tr>\n",
       "    <tr>\n",
       "      <th>4</th>\n",
       "      <td>IndiGo</td>\n",
       "      <td>01/03/2019</td>\n",
       "      <td>Banglore</td>\n",
       "      <td>New Delhi</td>\n",
       "      <td>BLR → NAG → DEL</td>\n",
       "      <td>16:50</td>\n",
       "      <td>21:35</td>\n",
       "      <td>4h 45m</td>\n",
       "      <td>1 stop</td>\n",
       "      <td>No info</td>\n",
       "      <td>13302</td>\n",
       "    </tr>\n",
       "    <tr>\n",
       "      <th>...</th>\n",
       "      <td>...</td>\n",
       "      <td>...</td>\n",
       "      <td>...</td>\n",
       "      <td>...</td>\n",
       "      <td>...</td>\n",
       "      <td>...</td>\n",
       "      <td>...</td>\n",
       "      <td>...</td>\n",
       "      <td>...</td>\n",
       "      <td>...</td>\n",
       "      <td>...</td>\n",
       "    </tr>\n",
       "    <tr>\n",
       "      <th>10678</th>\n",
       "      <td>Air Asia</td>\n",
       "      <td>9/04/2019</td>\n",
       "      <td>Kolkata</td>\n",
       "      <td>Banglore</td>\n",
       "      <td>CCU → BLR</td>\n",
       "      <td>19:55</td>\n",
       "      <td>22:25</td>\n",
       "      <td>2h 30m</td>\n",
       "      <td>non-stop</td>\n",
       "      <td>No info</td>\n",
       "      <td>4107</td>\n",
       "    </tr>\n",
       "    <tr>\n",
       "      <th>10679</th>\n",
       "      <td>Air India</td>\n",
       "      <td>27/04/2019</td>\n",
       "      <td>Kolkata</td>\n",
       "      <td>Banglore</td>\n",
       "      <td>CCU → BLR</td>\n",
       "      <td>20:45</td>\n",
       "      <td>23:20</td>\n",
       "      <td>2h 35m</td>\n",
       "      <td>non-stop</td>\n",
       "      <td>No info</td>\n",
       "      <td>4145</td>\n",
       "    </tr>\n",
       "    <tr>\n",
       "      <th>10680</th>\n",
       "      <td>Jet Airways</td>\n",
       "      <td>27/04/2019</td>\n",
       "      <td>Banglore</td>\n",
       "      <td>Delhi</td>\n",
       "      <td>BLR → DEL</td>\n",
       "      <td>08:20</td>\n",
       "      <td>11:20</td>\n",
       "      <td>3h</td>\n",
       "      <td>non-stop</td>\n",
       "      <td>No info</td>\n",
       "      <td>7229</td>\n",
       "    </tr>\n",
       "    <tr>\n",
       "      <th>10681</th>\n",
       "      <td>Vistara</td>\n",
       "      <td>01/03/2019</td>\n",
       "      <td>Banglore</td>\n",
       "      <td>New Delhi</td>\n",
       "      <td>BLR → DEL</td>\n",
       "      <td>11:30</td>\n",
       "      <td>14:10</td>\n",
       "      <td>2h 40m</td>\n",
       "      <td>non-stop</td>\n",
       "      <td>No info</td>\n",
       "      <td>12648</td>\n",
       "    </tr>\n",
       "    <tr>\n",
       "      <th>10682</th>\n",
       "      <td>Air India</td>\n",
       "      <td>9/05/2019</td>\n",
       "      <td>Delhi</td>\n",
       "      <td>Cochin</td>\n",
       "      <td>DEL → GOI → BOM → COK</td>\n",
       "      <td>10:55</td>\n",
       "      <td>19:15</td>\n",
       "      <td>8h 20m</td>\n",
       "      <td>2 stops</td>\n",
       "      <td>No info</td>\n",
       "      <td>11753</td>\n",
       "    </tr>\n",
       "  </tbody>\n",
       "</table>\n",
       "<p>10683 rows × 11 columns</p>\n",
       "</div>"
      ],
      "text/plain": [
       "           Airline Date_of_Journey    Source Destination  \\\n",
       "0           IndiGo      24/03/2019  Banglore   New Delhi   \n",
       "1        Air India       1/05/2019   Kolkata    Banglore   \n",
       "2      Jet Airways       9/06/2019     Delhi      Cochin   \n",
       "3           IndiGo      12/05/2019   Kolkata    Banglore   \n",
       "4           IndiGo      01/03/2019  Banglore   New Delhi   \n",
       "...            ...             ...       ...         ...   \n",
       "10678     Air Asia       9/04/2019   Kolkata    Banglore   \n",
       "10679    Air India      27/04/2019   Kolkata    Banglore   \n",
       "10680  Jet Airways      27/04/2019  Banglore       Delhi   \n",
       "10681      Vistara      01/03/2019  Banglore   New Delhi   \n",
       "10682    Air India       9/05/2019     Delhi      Cochin   \n",
       "\n",
       "                       Route Dep_Time  Arrival_Time Duration Total_Stops  \\\n",
       "0                  BLR → DEL    22:20  01:10 22 Mar   2h 50m    non-stop   \n",
       "1      CCU → IXR → BBI → BLR    05:50         13:15   7h 25m     2 stops   \n",
       "2      DEL → LKO → BOM → COK    09:25  04:25 10 Jun      19h     2 stops   \n",
       "3            CCU → NAG → BLR    18:05         23:30   5h 25m      1 stop   \n",
       "4            BLR → NAG → DEL    16:50         21:35   4h 45m      1 stop   \n",
       "...                      ...      ...           ...      ...         ...   \n",
       "10678              CCU → BLR    19:55         22:25   2h 30m    non-stop   \n",
       "10679              CCU → BLR    20:45         23:20   2h 35m    non-stop   \n",
       "10680              BLR → DEL    08:20         11:20       3h    non-stop   \n",
       "10681              BLR → DEL    11:30         14:10   2h 40m    non-stop   \n",
       "10682  DEL → GOI → BOM → COK    10:55         19:15   8h 20m     2 stops   \n",
       "\n",
       "      Additional_Info  Price  \n",
       "0             No info   3897  \n",
       "1             No info   7662  \n",
       "2             No info  13882  \n",
       "3             No info   6218  \n",
       "4             No info  13302  \n",
       "...               ...    ...  \n",
       "10678         No info   4107  \n",
       "10679         No info   4145  \n",
       "10680         No info   7229  \n",
       "10681         No info  12648  \n",
       "10682         No info  11753  \n",
       "\n",
       "[10683 rows x 11 columns]"
      ]
     },
     "execution_count": 42,
     "metadata": {},
     "output_type": "execute_result"
    }
   ],
   "source": [
    "df"
   ]
  },
  {
   "cell_type": "code",
   "execution_count": 4,
   "id": "6e64ccad",
   "metadata": {},
   "outputs": [
    {
     "name": "stdout",
     "output_type": "stream",
     "text": [
      "<class 'pandas.core.frame.DataFrame'>\n",
      "RangeIndex: 10683 entries, 0 to 10682\n",
      "Data columns (total 11 columns):\n",
      " #   Column           Non-Null Count  Dtype \n",
      "---  ------           --------------  ----- \n",
      " 0   Airline          10683 non-null  object\n",
      " 1   Date_of_Journey  10683 non-null  object\n",
      " 2   Source           10683 non-null  object\n",
      " 3   Destination      10683 non-null  object\n",
      " 4   Route            10682 non-null  object\n",
      " 5   Dep_Time         10683 non-null  object\n",
      " 6   Arrival_Time     10683 non-null  object\n",
      " 7   Duration         10683 non-null  object\n",
      " 8   Total_Stops      10682 non-null  object\n",
      " 9   Additional_Info  10683 non-null  object\n",
      " 10  Price            10683 non-null  int64 \n",
      "dtypes: int64(1), object(10)\n",
      "memory usage: 918.2+ KB\n"
     ]
    }
   ],
   "source": [
    "df.info()"
   ]
  },
  {
   "cell_type": "code",
   "execution_count": 5,
   "id": "ada3fb78",
   "metadata": {},
   "outputs": [],
   "source": [
    "# The data set contains 10,683 rows and eleven features.\n",
    "# It also have single null value in Route and Total_Stops.\n",
    "# The data type of few columns are not correct:-\n",
    "        # The data type of columns such as Date_of_Journey, Dep_Time, Arrival_Time should be DATETIME but it is currently OBJECT.\n",
    "        # The data type of columns such as Total_Stops, Duration should be INTEGER but it is currently OBJECT."
   ]
  },
  {
   "cell_type": "markdown",
   "id": "68ac8531",
   "metadata": {},
   "source": [
    "### 3. PRELIMINARY ANALYSIS"
   ]
  },
  {
   "cell_type": "markdown",
   "id": "c3708a9c",
   "metadata": {},
   "source": [
    "#### 3.1 CHECKING DATATYPE"
   ]
  },
  {
   "cell_type": "code",
   "execution_count": 6,
   "id": "9370dcb0",
   "metadata": {},
   "outputs": [
    {
     "data": {
      "text/html": [
       "<div>\n",
       "<style scoped>\n",
       "    .dataframe tbody tr th:only-of-type {\n",
       "        vertical-align: middle;\n",
       "    }\n",
       "\n",
       "    .dataframe tbody tr th {\n",
       "        vertical-align: top;\n",
       "    }\n",
       "\n",
       "    .dataframe thead th {\n",
       "        text-align: right;\n",
       "    }\n",
       "</style>\n",
       "<table border=\"1\" class=\"dataframe\">\n",
       "  <thead>\n",
       "    <tr style=\"text-align: right;\">\n",
       "      <th></th>\n",
       "      <th>Airline</th>\n",
       "      <th>Date_of_Journey</th>\n",
       "      <th>Source</th>\n",
       "      <th>Destination</th>\n",
       "      <th>Route</th>\n",
       "      <th>Dep_Time</th>\n",
       "      <th>Arrival_Time</th>\n",
       "      <th>Duration</th>\n",
       "      <th>Total_Stops</th>\n",
       "      <th>Additional_Info</th>\n",
       "      <th>Price</th>\n",
       "    </tr>\n",
       "  </thead>\n",
       "  <tbody>\n",
       "    <tr>\n",
       "      <th>0</th>\n",
       "      <td>IndiGo</td>\n",
       "      <td>24/03/2019</td>\n",
       "      <td>Banglore</td>\n",
       "      <td>New Delhi</td>\n",
       "      <td>BLR → DEL</td>\n",
       "      <td>22:20</td>\n",
       "      <td>01:10 22 Mar</td>\n",
       "      <td>2h 50m</td>\n",
       "      <td>non-stop</td>\n",
       "      <td>No info</td>\n",
       "      <td>3897</td>\n",
       "    </tr>\n",
       "    <tr>\n",
       "      <th>1</th>\n",
       "      <td>Air India</td>\n",
       "      <td>1/05/2019</td>\n",
       "      <td>Kolkata</td>\n",
       "      <td>Banglore</td>\n",
       "      <td>CCU → IXR → BBI → BLR</td>\n",
       "      <td>05:50</td>\n",
       "      <td>13:15</td>\n",
       "      <td>7h 25m</td>\n",
       "      <td>2 stops</td>\n",
       "      <td>No info</td>\n",
       "      <td>7662</td>\n",
       "    </tr>\n",
       "    <tr>\n",
       "      <th>2</th>\n",
       "      <td>Jet Airways</td>\n",
       "      <td>9/06/2019</td>\n",
       "      <td>Delhi</td>\n",
       "      <td>Cochin</td>\n",
       "      <td>DEL → LKO → BOM → COK</td>\n",
       "      <td>09:25</td>\n",
       "      <td>04:25 10 Jun</td>\n",
       "      <td>19h</td>\n",
       "      <td>2 stops</td>\n",
       "      <td>No info</td>\n",
       "      <td>13882</td>\n",
       "    </tr>\n",
       "    <tr>\n",
       "      <th>3</th>\n",
       "      <td>IndiGo</td>\n",
       "      <td>12/05/2019</td>\n",
       "      <td>Kolkata</td>\n",
       "      <td>Banglore</td>\n",
       "      <td>CCU → NAG → BLR</td>\n",
       "      <td>18:05</td>\n",
       "      <td>23:30</td>\n",
       "      <td>5h 25m</td>\n",
       "      <td>1 stop</td>\n",
       "      <td>No info</td>\n",
       "      <td>6218</td>\n",
       "    </tr>\n",
       "    <tr>\n",
       "      <th>4</th>\n",
       "      <td>IndiGo</td>\n",
       "      <td>01/03/2019</td>\n",
       "      <td>Banglore</td>\n",
       "      <td>New Delhi</td>\n",
       "      <td>BLR → NAG → DEL</td>\n",
       "      <td>16:50</td>\n",
       "      <td>21:35</td>\n",
       "      <td>4h 45m</td>\n",
       "      <td>1 stop</td>\n",
       "      <td>No info</td>\n",
       "      <td>13302</td>\n",
       "    </tr>\n",
       "  </tbody>\n",
       "</table>\n",
       "</div>"
      ],
      "text/plain": [
       "       Airline Date_of_Journey    Source Destination                  Route  \\\n",
       "0       IndiGo      24/03/2019  Banglore   New Delhi              BLR → DEL   \n",
       "1    Air India       1/05/2019   Kolkata    Banglore  CCU → IXR → BBI → BLR   \n",
       "2  Jet Airways       9/06/2019     Delhi      Cochin  DEL → LKO → BOM → COK   \n",
       "3       IndiGo      12/05/2019   Kolkata    Banglore        CCU → NAG → BLR   \n",
       "4       IndiGo      01/03/2019  Banglore   New Delhi        BLR → NAG → DEL   \n",
       "\n",
       "  Dep_Time  Arrival_Time Duration Total_Stops Additional_Info  Price  \n",
       "0    22:20  01:10 22 Mar   2h 50m    non-stop         No info   3897  \n",
       "1    05:50         13:15   7h 25m     2 stops         No info   7662  \n",
       "2    09:25  04:25 10 Jun      19h     2 stops         No info  13882  \n",
       "3    18:05         23:30   5h 25m      1 stop         No info   6218  \n",
       "4    16:50         21:35   4h 45m      1 stop         No info  13302  "
      ]
     },
     "execution_count": 6,
     "metadata": {},
     "output_type": "execute_result"
    }
   ],
   "source": [
    "df.head()"
   ]
  },
  {
   "cell_type": "code",
   "execution_count": 7,
   "id": "c432808a",
   "metadata": {},
   "outputs": [
    {
     "data": {
      "text/plain": [
       "Airline            object\n",
       "Date_of_Journey    object\n",
       "Source             object\n",
       "Destination        object\n",
       "Route              object\n",
       "Dep_Time           object\n",
       "Arrival_Time       object\n",
       "Duration           object\n",
       "Total_Stops        object\n",
       "Additional_Info    object\n",
       "Price               int64\n",
       "dtype: object"
      ]
     },
     "execution_count": 7,
     "metadata": {},
     "output_type": "execute_result"
    }
   ],
   "source": [
    "df.dtypes"
   ]
  },
  {
   "cell_type": "code",
   "execution_count": 8,
   "id": "d6a4b16c",
   "metadata": {},
   "outputs": [
    {
     "data": {
      "text/plain": [
       "'24/03/2019'"
      ]
     },
     "execution_count": 8,
     "metadata": {},
     "output_type": "execute_result"
    }
   ],
   "source": [
    "df['Date_of_Journey'].iloc[0]"
   ]
  },
  {
   "cell_type": "code",
   "execution_count": 9,
   "id": "a4fb3a20",
   "metadata": {},
   "outputs": [
    {
     "data": {
      "text/plain": [
       "'1/05/2019'"
      ]
     },
     "execution_count": 9,
     "metadata": {},
     "output_type": "execute_result"
    }
   ],
   "source": [
    "df['Date_of_Journey'].iloc[1]"
   ]
  },
  {
   "cell_type": "code",
   "execution_count": 10,
   "id": "56eb182a",
   "metadata": {},
   "outputs": [
    {
     "data": {
      "text/plain": [
       "'22:20'"
      ]
     },
     "execution_count": 10,
     "metadata": {},
     "output_type": "execute_result"
    }
   ],
   "source": [
    "df['Dep_Time'].iloc[0]"
   ]
  },
  {
   "cell_type": "code",
   "execution_count": 11,
   "id": "2c27d182",
   "metadata": {},
   "outputs": [
    {
     "data": {
      "text/plain": [
       "'08:25'"
      ]
     },
     "execution_count": 11,
     "metadata": {},
     "output_type": "execute_result"
    }
   ],
   "source": [
    "df['Dep_Time'].iloc[100]"
   ]
  },
  {
   "cell_type": "code",
   "execution_count": 12,
   "id": "08e241ff",
   "metadata": {},
   "outputs": [
    {
     "data": {
      "text/plain": [
       "'01:10 22 Mar'"
      ]
     },
     "execution_count": 12,
     "metadata": {},
     "output_type": "execute_result"
    }
   ],
   "source": [
    "df['Arrival_Time'].iloc[0]"
   ]
  },
  {
   "cell_type": "code",
   "execution_count": 13,
   "id": "4793b04f",
   "metadata": {},
   "outputs": [
    {
     "data": {
      "text/plain": [
       "'13:15'"
      ]
     },
     "execution_count": 13,
     "metadata": {},
     "output_type": "execute_result"
    }
   ],
   "source": [
    "df['Arrival_Time'].iloc[1]"
   ]
  },
  {
   "cell_type": "code",
   "execution_count": 14,
   "id": "d807697a",
   "metadata": {},
   "outputs": [
    {
     "data": {
      "text/plain": [
       "'2h 50m'"
      ]
     },
     "execution_count": 14,
     "metadata": {},
     "output_type": "execute_result"
    }
   ],
   "source": [
    "df['Duration'].iloc[0]"
   ]
  },
  {
   "cell_type": "code",
   "execution_count": 15,
   "id": "5105efdd",
   "metadata": {},
   "outputs": [
    {
     "data": {
      "text/plain": [
       "'8h 15m'"
      ]
     },
     "execution_count": 15,
     "metadata": {},
     "output_type": "execute_result"
    }
   ],
   "source": [
    "df['Duration'].iloc[2000]"
   ]
  },
  {
   "cell_type": "code",
   "execution_count": 16,
   "id": "f39b178a",
   "metadata": {},
   "outputs": [
    {
     "data": {
      "text/plain": [
       "'non-stop'"
      ]
     },
     "execution_count": 16,
     "metadata": {},
     "output_type": "execute_result"
    }
   ],
   "source": [
    "df['Total_Stops'].iloc[0]"
   ]
  },
  {
   "cell_type": "code",
   "execution_count": 17,
   "id": "c1aa5316",
   "metadata": {},
   "outputs": [
    {
     "data": {
      "text/plain": [
       "'1 stop'"
      ]
     },
     "execution_count": 17,
     "metadata": {},
     "output_type": "execute_result"
    }
   ],
   "source": [
    "df['Total_Stops'].iloc[100]"
   ]
  },
  {
   "cell_type": "code",
   "execution_count": null,
   "id": "61318b7e",
   "metadata": {},
   "outputs": [],
   "source": []
  },
  {
   "cell_type": "markdown",
   "id": "92323015",
   "metadata": {},
   "source": [
    "#### 3.2 CHECK FOR DUPLICATES"
   ]
  },
  {
   "cell_type": "code",
   "execution_count": 18,
   "id": "dc08726d",
   "metadata": {},
   "outputs": [
    {
     "data": {
      "text/plain": [
       "220"
      ]
     },
     "execution_count": 18,
     "metadata": {},
     "output_type": "execute_result"
    }
   ],
   "source": [
    "df.duplicated().sum()"
   ]
  },
  {
   "cell_type": "code",
   "execution_count": 19,
   "id": "b7f4104f",
   "metadata": {},
   "outputs": [
    {
     "data": {
      "text/plain": [
       "(10683, 11)"
      ]
     },
     "execution_count": 19,
     "metadata": {},
     "output_type": "execute_result"
    }
   ],
   "source": [
    "df.shape"
   ]
  },
  {
   "cell_type": "code",
   "execution_count": null,
   "id": "65800025",
   "metadata": {},
   "outputs": [],
   "source": []
  },
  {
   "cell_type": "code",
   "execution_count": 20,
   "id": "04e871a9",
   "metadata": {
    "scrolled": false
   },
   "outputs": [
    {
     "data": {
      "text/html": [
       "<div>\n",
       "<style scoped>\n",
       "    .dataframe tbody tr th:only-of-type {\n",
       "        vertical-align: middle;\n",
       "    }\n",
       "\n",
       "    .dataframe tbody tr th {\n",
       "        vertical-align: top;\n",
       "    }\n",
       "\n",
       "    .dataframe thead th {\n",
       "        text-align: right;\n",
       "    }\n",
       "</style>\n",
       "<table border=\"1\" class=\"dataframe\">\n",
       "  <thead>\n",
       "    <tr style=\"text-align: right;\">\n",
       "      <th></th>\n",
       "      <th>Airline</th>\n",
       "      <th>Date_of_Journey</th>\n",
       "      <th>Source</th>\n",
       "      <th>Destination</th>\n",
       "      <th>Route</th>\n",
       "      <th>Dep_Time</th>\n",
       "      <th>Arrival_Time</th>\n",
       "      <th>Duration</th>\n",
       "      <th>Total_Stops</th>\n",
       "      <th>Additional_Info</th>\n",
       "      <th>Price</th>\n",
       "    </tr>\n",
       "  </thead>\n",
       "  <tbody>\n",
       "    <tr>\n",
       "      <th>6321</th>\n",
       "      <td>Air India</td>\n",
       "      <td>01/03/2019</td>\n",
       "      <td>Banglore</td>\n",
       "      <td>New Delhi</td>\n",
       "      <td>BLR → BOM → AMD → DEL</td>\n",
       "      <td>08:50</td>\n",
       "      <td>23:55 02 Mar</td>\n",
       "      <td>39h 5m</td>\n",
       "      <td>2 stops</td>\n",
       "      <td>No info</td>\n",
       "      <td>17135</td>\n",
       "    </tr>\n",
       "    <tr>\n",
       "      <th>9848</th>\n",
       "      <td>Air India</td>\n",
       "      <td>01/03/2019</td>\n",
       "      <td>Banglore</td>\n",
       "      <td>New Delhi</td>\n",
       "      <td>BLR → BOM → AMD → DEL</td>\n",
       "      <td>08:50</td>\n",
       "      <td>23:55 02 Mar</td>\n",
       "      <td>39h 5m</td>\n",
       "      <td>2 stops</td>\n",
       "      <td>No info</td>\n",
       "      <td>17135</td>\n",
       "    </tr>\n",
       "    <tr>\n",
       "      <th>572</th>\n",
       "      <td>Air India</td>\n",
       "      <td>03/03/2019</td>\n",
       "      <td>Banglore</td>\n",
       "      <td>New Delhi</td>\n",
       "      <td>BLR → DEL</td>\n",
       "      <td>21:10</td>\n",
       "      <td>23:55</td>\n",
       "      <td>2h 45m</td>\n",
       "      <td>non-stop</td>\n",
       "      <td>No info</td>\n",
       "      <td>7591</td>\n",
       "    </tr>\n",
       "    <tr>\n",
       "      <th>8168</th>\n",
       "      <td>Air India</td>\n",
       "      <td>03/03/2019</td>\n",
       "      <td>Banglore</td>\n",
       "      <td>New Delhi</td>\n",
       "      <td>BLR → DEL</td>\n",
       "      <td>21:10</td>\n",
       "      <td>23:55</td>\n",
       "      <td>2h 45m</td>\n",
       "      <td>non-stop</td>\n",
       "      <td>No info</td>\n",
       "      <td>7591</td>\n",
       "    </tr>\n",
       "    <tr>\n",
       "      <th>1495</th>\n",
       "      <td>Air India</td>\n",
       "      <td>1/04/2019</td>\n",
       "      <td>Kolkata</td>\n",
       "      <td>Banglore</td>\n",
       "      <td>CCU → DEL → COK → BLR</td>\n",
       "      <td>10:00</td>\n",
       "      <td>01:20 02 Apr</td>\n",
       "      <td>15h 20m</td>\n",
       "      <td>2 stops</td>\n",
       "      <td>No info</td>\n",
       "      <td>10408</td>\n",
       "    </tr>\n",
       "    <tr>\n",
       "      <th>9913</th>\n",
       "      <td>Air India</td>\n",
       "      <td>1/04/2019</td>\n",
       "      <td>Kolkata</td>\n",
       "      <td>Banglore</td>\n",
       "      <td>CCU → DEL → COK → BLR</td>\n",
       "      <td>10:00</td>\n",
       "      <td>01:20 02 Apr</td>\n",
       "      <td>15h 20m</td>\n",
       "      <td>2 stops</td>\n",
       "      <td>No info</td>\n",
       "      <td>10408</td>\n",
       "    </tr>\n",
       "    <tr>\n",
       "      <th>3598</th>\n",
       "      <td>Air India</td>\n",
       "      <td>1/05/2019</td>\n",
       "      <td>Kolkata</td>\n",
       "      <td>Banglore</td>\n",
       "      <td>CCU → GAU → DEL → BLR</td>\n",
       "      <td>09:50</td>\n",
       "      <td>08:55 02 May</td>\n",
       "      <td>23h 5m</td>\n",
       "      <td>2 stops</td>\n",
       "      <td>No info</td>\n",
       "      <td>13227</td>\n",
       "    </tr>\n",
       "    <tr>\n",
       "      <th>10183</th>\n",
       "      <td>Air India</td>\n",
       "      <td>1/05/2019</td>\n",
       "      <td>Kolkata</td>\n",
       "      <td>Banglore</td>\n",
       "      <td>CCU → GAU → DEL → BLR</td>\n",
       "      <td>09:50</td>\n",
       "      <td>08:55 02 May</td>\n",
       "      <td>23h 5m</td>\n",
       "      <td>2 stops</td>\n",
       "      <td>No info</td>\n",
       "      <td>13227</td>\n",
       "    </tr>\n",
       "    <tr>\n",
       "      <th>4603</th>\n",
       "      <td>Air India</td>\n",
       "      <td>1/05/2019</td>\n",
       "      <td>Kolkata</td>\n",
       "      <td>Banglore</td>\n",
       "      <td>CCU → DEL → COK → BLR</td>\n",
       "      <td>10:00</td>\n",
       "      <td>13:45 02 May</td>\n",
       "      <td>27h 45m</td>\n",
       "      <td>2 stops</td>\n",
       "      <td>No info</td>\n",
       "      <td>15164</td>\n",
       "    </tr>\n",
       "    <tr>\n",
       "      <th>5042</th>\n",
       "      <td>Air India</td>\n",
       "      <td>1/05/2019</td>\n",
       "      <td>Kolkata</td>\n",
       "      <td>Banglore</td>\n",
       "      <td>CCU → DEL → COK → BLR</td>\n",
       "      <td>10:00</td>\n",
       "      <td>13:45 02 May</td>\n",
       "      <td>27h 45m</td>\n",
       "      <td>2 stops</td>\n",
       "      <td>No info</td>\n",
       "      <td>15164</td>\n",
       "    </tr>\n",
       "  </tbody>\n",
       "</table>\n",
       "</div>"
      ],
      "text/plain": [
       "         Airline Date_of_Journey    Source Destination                  Route  \\\n",
       "6321   Air India      01/03/2019  Banglore   New Delhi  BLR → BOM → AMD → DEL   \n",
       "9848   Air India      01/03/2019  Banglore   New Delhi  BLR → BOM → AMD → DEL   \n",
       "572    Air India      03/03/2019  Banglore   New Delhi              BLR → DEL   \n",
       "8168   Air India      03/03/2019  Banglore   New Delhi              BLR → DEL   \n",
       "1495   Air India       1/04/2019   Kolkata    Banglore  CCU → DEL → COK → BLR   \n",
       "9913   Air India       1/04/2019   Kolkata    Banglore  CCU → DEL → COK → BLR   \n",
       "3598   Air India       1/05/2019   Kolkata    Banglore  CCU → GAU → DEL → BLR   \n",
       "10183  Air India       1/05/2019   Kolkata    Banglore  CCU → GAU → DEL → BLR   \n",
       "4603   Air India       1/05/2019   Kolkata    Banglore  CCU → DEL → COK → BLR   \n",
       "5042   Air India       1/05/2019   Kolkata    Banglore  CCU → DEL → COK → BLR   \n",
       "\n",
       "      Dep_Time  Arrival_Time Duration Total_Stops Additional_Info  Price  \n",
       "6321     08:50  23:55 02 Mar   39h 5m     2 stops         No info  17135  \n",
       "9848     08:50  23:55 02 Mar   39h 5m     2 stops         No info  17135  \n",
       "572      21:10         23:55   2h 45m    non-stop         No info   7591  \n",
       "8168     21:10         23:55   2h 45m    non-stop         No info   7591  \n",
       "1495     10:00  01:20 02 Apr  15h 20m     2 stops         No info  10408  \n",
       "9913     10:00  01:20 02 Apr  15h 20m     2 stops         No info  10408  \n",
       "3598     09:50  08:55 02 May   23h 5m     2 stops         No info  13227  \n",
       "10183    09:50  08:55 02 May   23h 5m     2 stops         No info  13227  \n",
       "4603     10:00  13:45 02 May  27h 45m     2 stops         No info  15164  \n",
       "5042     10:00  13:45 02 May  27h 45m     2 stops         No info  15164  "
      ]
     },
     "execution_count": 20,
     "metadata": {},
     "output_type": "execute_result"
    }
   ],
   "source": [
    "df.loc[df.duplicated(keep=False)].sort_values(['Airline', 'Date_of_Journey', 'Source', 'Destination', 'Dep_Time']).head(10)"
   ]
  },
  {
   "cell_type": "code",
   "execution_count": 21,
   "id": "a76faa15",
   "metadata": {},
   "outputs": [],
   "source": [
    "#From the above observation, we have confirmed that there are 220 duplicates, which are present in our data set."
   ]
  },
  {
   "cell_type": "code",
   "execution_count": 22,
   "id": "20f0d2d7",
   "metadata": {},
   "outputs": [],
   "source": [
    "# OBSERVATION :-\n",
    "\n",
    "# -- The data that is present in a 'Date_of_Journey' column should have data type as DATETIME,\n",
    "#    but currently the data is represented in OBJECT data type.\n",
    "\n",
    "# -- The data that is present in a 'Dep_Time' column should have data type as DATETIME,\n",
    "#    but currently the data is represented in OBJECT data type.\n",
    "\n",
    "# -- The data that is present in a 'Arrival_Time' column should have data type as DATETIME,\n",
    "#    but currently the data is represented in OBJECT data type.\n",
    "# -- So the data that is present in the arrival time column should only consist of arrival time,\n",
    "#    but in some cases it also has arrival date and arrival month, so we also need to handle this. \n",
    "\n",
    "# -- As we can make some more optimisation while representing the duration column, It's not that appropriate.\n",
    "\n",
    "# -- We can represent total stock column in some better way because the way it is there currently is not that good enough.\n",
    "\n",
    "# -- From the above, we can observe that there are 220 duplicate values that are present inside our data frame,\n",
    "#    but to confirm this, we need to validate first."
   ]
  },
  {
   "cell_type": "code",
   "execution_count": null,
   "id": "ba3dcd0d",
   "metadata": {},
   "outputs": [],
   "source": []
  },
  {
   "cell_type": "markdown",
   "id": "6332e4a7",
   "metadata": {},
   "source": [
    "### 4. ANALYSING IN MORE DETAIL"
   ]
  },
  {
   "cell_type": "code",
   "execution_count": 23,
   "id": "4a39c4d7",
   "metadata": {},
   "outputs": [
    {
     "data": {
      "text/plain": [
       "['IndiGo',\n",
       " 'Air India',\n",
       " 'Jet Airways',\n",
       " 'SpiceJet',\n",
       " 'Multiple carriers',\n",
       " 'GoAir',\n",
       " 'Vistara',\n",
       " 'Air Asia',\n",
       " 'Vistara Premium economy',\n",
       " 'Jet Airways Business',\n",
       " 'Multiple carriers Premium economy',\n",
       " 'Trujet']"
      ]
     },
     "execution_count": 23,
     "metadata": {},
     "output_type": "execute_result"
    }
   ],
   "source": [
    "[i for i in df['Airline'].unique()]"
   ]
  },
  {
   "cell_type": "code",
   "execution_count": 24,
   "id": "679fa5ad",
   "metadata": {},
   "outputs": [
    {
     "data": {
      "text/plain": [
       "array(['Banglore', 'Kolkata', 'Delhi', 'Chennai', 'Mumbai'], dtype=object)"
      ]
     },
     "execution_count": 24,
     "metadata": {},
     "output_type": "execute_result"
    }
   ],
   "source": [
    "df['Source'].unique()"
   ]
  },
  {
   "cell_type": "code",
   "execution_count": 25,
   "id": "e3043014",
   "metadata": {},
   "outputs": [
    {
     "data": {
      "text/plain": [
       "['No info',\n",
       " 'In-flight meal not included',\n",
       " 'No check-in baggage included',\n",
       " '1 Short layover',\n",
       " 'No Info',\n",
       " '1 Long layover',\n",
       " 'Change airports',\n",
       " 'Business class',\n",
       " 'Red-eye flight',\n",
       " '2 Long layover']"
      ]
     },
     "execution_count": 25,
     "metadata": {},
     "output_type": "execute_result"
    }
   ],
   "source": [
    "[i for i in df['Additional_Info'].unique()]"
   ]
  },
  {
   "cell_type": "code",
   "execution_count": 26,
   "id": "d1e1324f",
   "metadata": {
    "scrolled": true
   },
   "outputs": [],
   "source": [
    "# From this we can observe that just because of the case difference, the values are identifying uniquely."
   ]
  },
  {
   "cell_type": "code",
   "execution_count": null,
   "id": "3e364e27",
   "metadata": {},
   "outputs": [],
   "source": []
  },
  {
   "cell_type": "markdown",
   "id": "1983760a",
   "metadata": {},
   "source": [
    "### CLEANING OPERATION"
   ]
  },
  {
   "cell_type": "code",
   "execution_count": 125,
   "id": "8c0e063c",
   "metadata": {},
   "outputs": [],
   "source": [
    "def conver_to_minutes(data):\n",
    "    return(\n",
    "        data\n",
    "        .str.split(\" \", expand = True)\n",
    "        .set_axis(['hours', 'minute'], axis = 1)\n",
    "        .assign(\n",
    "            hours = lambda df_: df_.hours.str.replace('h', \"\").astype(int).mul(60)\n",
    "        )\n",
    "        .assign(\n",
    "            minute = lambda df_: df_.minute.str.replace('m',\"\").fillna('0').astype(int)\n",
    "        )\n",
    "        .sum(axis = 1)\n",
    "    )"
   ]
  },
  {
   "cell_type": "code",
   "execution_count": 163,
   "id": "0515a9eb",
   "metadata": {},
   "outputs": [],
   "source": [
    "def clean_data(data):\n",
    "    return (\n",
    "        data\n",
    "        .drop(index = [6474])\n",
    "        .drop_duplicates()\n",
    "        .assign(**{\n",
    "            i: data[i].str.strip() \n",
    "            for i in data.select_dtypes(include='O').columns})\n",
    "        .rename(columns=str.lower)\n",
    "        .assign(\n",
    "            date_of_journey = lambda df_: pd.to_datetime(data.Date_of_Journey, dayfirst=True),\n",
    "            dep_time = lambda df_: pd.to_datetime(data['Dep_Time']).dt.time,\n",
    "            arrival_time = lambda df_: pd.to_datetime(data.Arrival_Time.str.split(\" \", n=1).str[0]).dt.time,\n",
    "            duration = lambda df_: conver_to_minutes(df_.duration),\n",
    "            total_stops = lambda df_:(\n",
    "                df_.total_stops\n",
    "                .str.replace(\"non-stop\", '0')\n",
    "                .str.replace(\"2 stops\", \"2\")\n",
    "                .str.replace(\"1 stop\", \"1\")\n",
    "                .str.replace(\"3 stops\", \"3\")\n",
    "                .str.replace(\"4 stops\", '4')\n",
    "                .pipe(lambda ser: pd.to_numeric(ser))\n",
    "            ),\n",
    "            additional_info = lambda df_: df_.additional_info.replace(\"No info\", \"No Info\")\n",
    "        )\n",
    "        .drop(columns='route')\n",
    "        \n",
    "    )"
   ]
  },
  {
   "cell_type": "code",
   "execution_count": 151,
   "id": "d9a53596",
   "metadata": {},
   "outputs": [],
   "source": [
    "def making_new_col_class(df_):\n",
    "    df_[['Airline', 'Class']] = df_['Airline'].str.extract(r'^(.*?)\\s*(Premium economy|Business)?$')\n",
    "    df_['Class'].fillna('Economy', inplace=True)\n",
    "    return df_\n",
    "data = df\n",
    "data = making_new_col_class(df)\n"
   ]
  },
  {
   "cell_type": "code",
   "execution_count": 153,
   "id": "8b236a68",
   "metadata": {},
   "outputs": [
    {
     "data": {
      "text/html": [
       "<div>\n",
       "<style scoped>\n",
       "    .dataframe tbody tr th:only-of-type {\n",
       "        vertical-align: middle;\n",
       "    }\n",
       "\n",
       "    .dataframe tbody tr th {\n",
       "        vertical-align: top;\n",
       "    }\n",
       "\n",
       "    .dataframe thead th {\n",
       "        text-align: right;\n",
       "    }\n",
       "</style>\n",
       "<table border=\"1\" class=\"dataframe\">\n",
       "  <thead>\n",
       "    <tr style=\"text-align: right;\">\n",
       "      <th></th>\n",
       "      <th>airline</th>\n",
       "      <th>date_of_journey</th>\n",
       "      <th>source</th>\n",
       "      <th>destination</th>\n",
       "      <th>dep_time</th>\n",
       "      <th>arrival_time</th>\n",
       "      <th>duration</th>\n",
       "      <th>total_stops</th>\n",
       "      <th>additional_info</th>\n",
       "      <th>price</th>\n",
       "      <th>class</th>\n",
       "    </tr>\n",
       "  </thead>\n",
       "  <tbody>\n",
       "    <tr>\n",
       "      <th>0</th>\n",
       "      <td>IndiGo</td>\n",
       "      <td>2019-03-24</td>\n",
       "      <td>Banglore</td>\n",
       "      <td>New Delhi</td>\n",
       "      <td>22:20:00</td>\n",
       "      <td>01:10:00</td>\n",
       "      <td>170</td>\n",
       "      <td>0.0</td>\n",
       "      <td>No Info</td>\n",
       "      <td>3897</td>\n",
       "      <td>Economy</td>\n",
       "    </tr>\n",
       "    <tr>\n",
       "      <th>1</th>\n",
       "      <td>Air India</td>\n",
       "      <td>2019-05-01</td>\n",
       "      <td>Kolkata</td>\n",
       "      <td>Banglore</td>\n",
       "      <td>05:50:00</td>\n",
       "      <td>13:15:00</td>\n",
       "      <td>445</td>\n",
       "      <td>2.0</td>\n",
       "      <td>No Info</td>\n",
       "      <td>7662</td>\n",
       "      <td>Economy</td>\n",
       "    </tr>\n",
       "    <tr>\n",
       "      <th>2</th>\n",
       "      <td>Jet Airways</td>\n",
       "      <td>2019-06-09</td>\n",
       "      <td>Delhi</td>\n",
       "      <td>Cochin</td>\n",
       "      <td>09:25:00</td>\n",
       "      <td>04:25:00</td>\n",
       "      <td>1140</td>\n",
       "      <td>2.0</td>\n",
       "      <td>No Info</td>\n",
       "      <td>13882</td>\n",
       "      <td>Economy</td>\n",
       "    </tr>\n",
       "    <tr>\n",
       "      <th>3</th>\n",
       "      <td>IndiGo</td>\n",
       "      <td>2019-05-12</td>\n",
       "      <td>Kolkata</td>\n",
       "      <td>Banglore</td>\n",
       "      <td>18:05:00</td>\n",
       "      <td>23:30:00</td>\n",
       "      <td>325</td>\n",
       "      <td>1.0</td>\n",
       "      <td>No Info</td>\n",
       "      <td>6218</td>\n",
       "      <td>Economy</td>\n",
       "    </tr>\n",
       "    <tr>\n",
       "      <th>4</th>\n",
       "      <td>IndiGo</td>\n",
       "      <td>2019-03-01</td>\n",
       "      <td>Banglore</td>\n",
       "      <td>New Delhi</td>\n",
       "      <td>16:50:00</td>\n",
       "      <td>21:35:00</td>\n",
       "      <td>285</td>\n",
       "      <td>1.0</td>\n",
       "      <td>No Info</td>\n",
       "      <td>13302</td>\n",
       "      <td>Economy</td>\n",
       "    </tr>\n",
       "    <tr>\n",
       "      <th>...</th>\n",
       "      <td>...</td>\n",
       "      <td>...</td>\n",
       "      <td>...</td>\n",
       "      <td>...</td>\n",
       "      <td>...</td>\n",
       "      <td>...</td>\n",
       "      <td>...</td>\n",
       "      <td>...</td>\n",
       "      <td>...</td>\n",
       "      <td>...</td>\n",
       "      <td>...</td>\n",
       "    </tr>\n",
       "    <tr>\n",
       "      <th>10678</th>\n",
       "      <td>Air Asia</td>\n",
       "      <td>2019-04-09</td>\n",
       "      <td>Kolkata</td>\n",
       "      <td>Banglore</td>\n",
       "      <td>19:55:00</td>\n",
       "      <td>22:25:00</td>\n",
       "      <td>150</td>\n",
       "      <td>0.0</td>\n",
       "      <td>No Info</td>\n",
       "      <td>4107</td>\n",
       "      <td>Economy</td>\n",
       "    </tr>\n",
       "    <tr>\n",
       "      <th>10679</th>\n",
       "      <td>Air India</td>\n",
       "      <td>2019-04-27</td>\n",
       "      <td>Kolkata</td>\n",
       "      <td>Banglore</td>\n",
       "      <td>20:45:00</td>\n",
       "      <td>23:20:00</td>\n",
       "      <td>155</td>\n",
       "      <td>0.0</td>\n",
       "      <td>No Info</td>\n",
       "      <td>4145</td>\n",
       "      <td>Economy</td>\n",
       "    </tr>\n",
       "    <tr>\n",
       "      <th>10680</th>\n",
       "      <td>Jet Airways</td>\n",
       "      <td>2019-04-27</td>\n",
       "      <td>Banglore</td>\n",
       "      <td>Delhi</td>\n",
       "      <td>08:20:00</td>\n",
       "      <td>11:20:00</td>\n",
       "      <td>180</td>\n",
       "      <td>0.0</td>\n",
       "      <td>No Info</td>\n",
       "      <td>7229</td>\n",
       "      <td>Economy</td>\n",
       "    </tr>\n",
       "    <tr>\n",
       "      <th>10681</th>\n",
       "      <td>Vistara</td>\n",
       "      <td>2019-03-01</td>\n",
       "      <td>Banglore</td>\n",
       "      <td>New Delhi</td>\n",
       "      <td>11:30:00</td>\n",
       "      <td>14:10:00</td>\n",
       "      <td>160</td>\n",
       "      <td>0.0</td>\n",
       "      <td>No Info</td>\n",
       "      <td>12648</td>\n",
       "      <td>Economy</td>\n",
       "    </tr>\n",
       "    <tr>\n",
       "      <th>10682</th>\n",
       "      <td>Air India</td>\n",
       "      <td>2019-05-09</td>\n",
       "      <td>Delhi</td>\n",
       "      <td>Cochin</td>\n",
       "      <td>10:55:00</td>\n",
       "      <td>19:15:00</td>\n",
       "      <td>500</td>\n",
       "      <td>2.0</td>\n",
       "      <td>No Info</td>\n",
       "      <td>11753</td>\n",
       "      <td>Economy</td>\n",
       "    </tr>\n",
       "  </tbody>\n",
       "</table>\n",
       "<p>10682 rows × 11 columns</p>\n",
       "</div>"
      ],
      "text/plain": [
       "           airline date_of_journey    source destination  dep_time  \\\n",
       "0           IndiGo      2019-03-24  Banglore   New Delhi  22:20:00   \n",
       "1        Air India      2019-05-01   Kolkata    Banglore  05:50:00   \n",
       "2      Jet Airways      2019-06-09     Delhi      Cochin  09:25:00   \n",
       "3           IndiGo      2019-05-12   Kolkata    Banglore  18:05:00   \n",
       "4           IndiGo      2019-03-01  Banglore   New Delhi  16:50:00   \n",
       "...            ...             ...       ...         ...       ...   \n",
       "10678     Air Asia      2019-04-09   Kolkata    Banglore  19:55:00   \n",
       "10679    Air India      2019-04-27   Kolkata    Banglore  20:45:00   \n",
       "10680  Jet Airways      2019-04-27  Banglore       Delhi  08:20:00   \n",
       "10681      Vistara      2019-03-01  Banglore   New Delhi  11:30:00   \n",
       "10682    Air India      2019-05-09     Delhi      Cochin  10:55:00   \n",
       "\n",
       "      arrival_time  duration  total_stops additional_info  price    class  \n",
       "0         01:10:00       170          0.0         No Info   3897  Economy  \n",
       "1         13:15:00       445          2.0         No Info   7662  Economy  \n",
       "2         04:25:00      1140          2.0         No Info  13882  Economy  \n",
       "3         23:30:00       325          1.0         No Info   6218  Economy  \n",
       "4         21:35:00       285          1.0         No Info  13302  Economy  \n",
       "...            ...       ...          ...             ...    ...      ...  \n",
       "10678     22:25:00       150          0.0         No Info   4107  Economy  \n",
       "10679     23:20:00       155          0.0         No Info   4145  Economy  \n",
       "10680     11:20:00       180          0.0         No Info   7229  Economy  \n",
       "10681     14:10:00       160          0.0         No Info  12648  Economy  \n",
       "10682     19:15:00       500          2.0         No Info  11753  Economy  \n",
       "\n",
       "[10682 rows x 11 columns]"
      ]
     },
     "execution_count": 153,
     "metadata": {},
     "output_type": "execute_result"
    }
   ],
   "source": [
    "clean_data(data)"
   ]
  },
  {
   "cell_type": "code",
   "execution_count": null,
   "id": "b50d808b",
   "metadata": {},
   "outputs": [],
   "source": [
    "df['Airline'].unique()"
   ]
  },
  {
   "cell_type": "code",
   "execution_count": 58,
   "id": "ec7e9661",
   "metadata": {},
   "outputs": [
    {
     "data": {
      "text/plain": [
       "49387.5"
      ]
     },
     "execution_count": 58,
     "metadata": {},
     "output_type": "execute_result"
    }
   ],
   "source": [
    "df[(df['Airline'] == 'Jet Airways Business')& (df['Source'] == 'Delhi') & (df['Destination'] == 'Cochin')]['Price'].mean()"
   ]
  },
  {
   "cell_type": "code",
   "execution_count": 57,
   "id": "487f1d1d",
   "metadata": {},
   "outputs": [
    {
     "data": {
      "text/plain": [
       "12642.593316519546"
      ]
     },
     "execution_count": 57,
     "metadata": {},
     "output_type": "execute_result"
    }
   ],
   "source": [
    "df[(df['Airline'] == 'Jet Airways') & (df['Source'] == 'Delhi')  & (df['Destination'] == 'Cochin')]['Price'].mean()"
   ]
  },
  {
   "cell_type": "code",
   "execution_count": null,
   "id": "bdb09a73",
   "metadata": {},
   "outputs": [],
   "source": [
    "#From the above observation,we can observe that there is a vast difference between the price of a normal class and other class, \n",
    "# which can be business or Premium economy, so we cannot eliminate the class that is present along with the airline name."
   ]
  },
  {
   "cell_type": "markdown",
   "id": "8a8fe78d",
   "metadata": {},
   "source": [
    "##### Airline"
   ]
  },
  {
   "cell_type": "code",
   "execution_count": 39,
   "id": "3891528b",
   "metadata": {},
   "outputs": [
    {
     "data": {
      "text/plain": [
       "['IndiGo',\n",
       " 'Air India',\n",
       " 'Jet Airways',\n",
       " 'SpiceJet',\n",
       " 'Multiple carriers',\n",
       " 'GoAir',\n",
       " 'Vistara',\n",
       " 'Air Asia',\n",
       " 'Trujet']"
      ]
     },
     "execution_count": 39,
     "metadata": {},
     "output_type": "execute_result"
    }
   ],
   "source": [
    "[i for i in data['Airline'].unique()]"
   ]
  },
  {
   "cell_type": "code",
   "execution_count": 40,
   "id": "d2843268",
   "metadata": {},
   "outputs": [
    {
     "data": {
      "text/plain": [
       "['Economy', 'Premium economy', 'Business']"
      ]
     },
     "execution_count": 40,
     "metadata": {},
     "output_type": "execute_result"
    }
   ],
   "source": [
    "[i for i in data['Class'].unique()]"
   ]
  },
  {
   "cell_type": "markdown",
   "id": "7ab3252e",
   "metadata": {},
   "source": [
    "##### Date_of_Journey"
   ]
  },
  {
   "cell_type": "code",
   "execution_count": null,
   "id": "26bd12e0",
   "metadata": {},
   "outputs": [],
   "source": []
  },
  {
   "cell_type": "code",
   "execution_count": 70,
   "id": "19d91120",
   "metadata": {},
   "outputs": [
    {
     "data": {
      "text/plain": [
       "array(['IndiGo', 'Air India', 'Jet Airways', 'SpiceJet',\n",
       "       'Multiple carriers', 'GoAir', 'Vistara', 'Air Asia',\n",
       "       'Vistara Premium economy', 'Jet Airways Business',\n",
       "       'Multiple carriers Premium economy', 'Trujet'], dtype=object)"
      ]
     },
     "execution_count": 70,
     "metadata": {},
     "output_type": "execute_result"
    }
   ],
   "source": [
    "df['Airline'].unique()"
   ]
  },
  {
   "cell_type": "code",
   "execution_count": 118,
   "id": "db0891b2",
   "metadata": {},
   "outputs": [
    {
     "data": {
      "text/plain": [
       "0       2019-03-24\n",
       "1       2019-05-01\n",
       "2       2019-06-09\n",
       "3       2019-05-12\n",
       "4       2019-03-01\n",
       "           ...    \n",
       "10678   2019-04-09\n",
       "10679   2019-04-27\n",
       "10680   2019-04-27\n",
       "10681   2019-03-01\n",
       "10682   2019-05-09\n",
       "Name: Date_of_Journey, Length: 10683, dtype: datetime64[ns]"
      ]
     },
     "execution_count": 118,
     "metadata": {},
     "output_type": "execute_result"
    }
   ],
   "source": [
    "pd.to_datetime(df.Date_of_Journey, dayfirst=True)"
   ]
  },
  {
   "cell_type": "markdown",
   "id": "cd9371b1",
   "metadata": {},
   "source": [
    "##### Source"
   ]
  },
  {
   "cell_type": "code",
   "execution_count": 133,
   "id": "e62da111",
   "metadata": {},
   "outputs": [
    {
     "data": {
      "text/plain": [
       "array(['Banglore', 'Kolkata', 'Delhi', 'Chennai', 'Mumbai'], dtype=object)"
      ]
     },
     "execution_count": 133,
     "metadata": {},
     "output_type": "execute_result"
    }
   ],
   "source": [
    "df['Source'].unique()"
   ]
  },
  {
   "cell_type": "markdown",
   "id": "d9f60a9c",
   "metadata": {},
   "source": [
    "##### Destination"
   ]
  },
  {
   "cell_type": "code",
   "execution_count": 135,
   "id": "7e42be77",
   "metadata": {},
   "outputs": [
    {
     "data": {
      "text/plain": [
       "array(['New Delhi', 'Banglore', 'Cochin', 'Kolkata', 'Delhi', 'Hyderabad'],\n",
       "      dtype=object)"
      ]
     },
     "execution_count": 135,
     "metadata": {},
     "output_type": "execute_result"
    }
   ],
   "source": [
    "df['Destination'].unique()"
   ]
  },
  {
   "cell_type": "markdown",
   "id": "2cf009ad",
   "metadata": {},
   "source": [
    "##### Route"
   ]
  },
  {
   "cell_type": "code",
   "execution_count": 155,
   "id": "4f699308",
   "metadata": {
    "scrolled": true
   },
   "outputs": [
    {
     "data": {
      "text/plain": [
       "0                BLR → DEL\n",
       "1    CCU → IXR → BBI → BLR\n",
       "2    DEL → LKO → BOM → COK\n",
       "3          CCU → NAG → BLR\n",
       "4          BLR → NAG → DEL\n",
       "Name: Route, dtype: object"
      ]
     },
     "execution_count": 155,
     "metadata": {},
     "output_type": "execute_result"
    }
   ],
   "source": [
    "df['Route'].head()"
   ]
  },
  {
   "cell_type": "code",
   "execution_count": 149,
   "id": "ebcb6dad",
   "metadata": {},
   "outputs": [
    {
     "data": {
      "text/plain": [
       "0        22:20\n",
       "1        05:50\n",
       "2        09:25\n",
       "3        18:05\n",
       "4        16:50\n",
       "         ...  \n",
       "10678    19:55\n",
       "10679    20:45\n",
       "10680    08:20\n",
       "10681    11:30\n",
       "10682    10:55\n",
       "Name: Dep_Time, Length: 10683, dtype: object"
      ]
     },
     "execution_count": 149,
     "metadata": {},
     "output_type": "execute_result"
    }
   ],
   "source": [
    "df['Dep_Time']"
   ]
  },
  {
   "cell_type": "code",
   "execution_count": 152,
   "id": "51467700",
   "metadata": {},
   "outputs": [
    {
     "data": {
      "text/plain": [
       "Series([], Name: Dep_Time, dtype: object)"
      ]
     },
     "execution_count": 152,
     "metadata": {},
     "output_type": "execute_result"
    }
   ],
   "source": [
    "(\n",
    "    df['Dep_Time']\n",
    "    .loc[lambda ser: ser.str.contains(\"[^0-9:]\")]\n",
    ")"
   ]
  },
  {
   "cell_type": "code",
   "execution_count": 153,
   "id": "3168988a",
   "metadata": {},
   "outputs": [],
   "source": [
    "# Using this we are just trying to verify that inside \"Dep_Time\" columns is there any value which have values other that 0-9:0-9"
   ]
  },
  {
   "cell_type": "code",
   "execution_count": 157,
   "id": "691a9d2d",
   "metadata": {},
   "outputs": [
    {
     "data": {
      "text/plain": [
       "0        22:20:00\n",
       "1        05:50:00\n",
       "2        09:25:00\n",
       "3        18:05:00\n",
       "4        16:50:00\n",
       "           ...   \n",
       "10678    19:55:00\n",
       "10679    20:45:00\n",
       "10680    08:20:00\n",
       "10681    11:30:00\n",
       "10682    10:55:00\n",
       "Name: Dep_Time, Length: 10683, dtype: object"
      ]
     },
     "execution_count": 157,
     "metadata": {},
     "output_type": "execute_result"
    }
   ],
   "source": [
    "pd.to_datetime(df['Dep_Time']).dt.time"
   ]
  },
  {
   "cell_type": "markdown",
   "id": "9b64bffe",
   "metadata": {},
   "source": [
    "##### arival time"
   ]
  },
  {
   "cell_type": "code",
   "execution_count": 165,
   "id": "4d9b74a9",
   "metadata": {},
   "outputs": [
    {
     "data": {
      "text/plain": [
       "0        01:10 22 Mar\n",
       "1               13:15\n",
       "2        04:25 10 Jun\n",
       "3               23:30\n",
       "4               21:35\n",
       "             ...     \n",
       "10678           22:25\n",
       "10679           23:20\n",
       "10680           11:20\n",
       "10681           14:10\n",
       "10682           19:15\n",
       "Name: Arrival_Time, Length: 10683, dtype: object"
      ]
     },
     "execution_count": 165,
     "metadata": {},
     "output_type": "execute_result"
    }
   ],
   "source": [
    "df['Arrival_Time']"
   ]
  },
  {
   "cell_type": "code",
   "execution_count": 169,
   "id": "d50ab3fb",
   "metadata": {},
   "outputs": [
    {
     "data": {
      "text/plain": [
       "array(['22 Mar', '10 Jun', '13 Mar', '02 Mar', '10 May', '04 Mar',\n",
       "       '13 Jun', '28 May', '19 Mar', '07 May', '02 Jun', '16 Jun',\n",
       "       '19 May', '16 May', '28 Jun', '02 May', '28 Mar', '19 Jun',\n",
       "       '04 Apr', '25 Mar', '07 Mar', '25 Jun', '07 Jun', '25 May',\n",
       "       '13 May', '16 Mar', '22 May', '10 Apr', '04 Jun', '20 May',\n",
       "       '28 Apr', '25 Apr', '10 Mar', '19 Apr', '13 Apr', '02 Apr',\n",
       "       '23 Mar', '22 Apr', '11 May', '07 Apr', '03 May', '08 Mar',\n",
       "       '03 Mar', '05 Mar', '22 Jun', '04 May', '26 May', '16 Apr',\n",
       "       '26 Jun', '29 May', '29 Jun', '29 Mar', '23 May', '17 Jun'],\n",
       "      dtype=object)"
      ]
     },
     "execution_count": 169,
     "metadata": {},
     "output_type": "execute_result"
    }
   ],
   "source": [
    "(\n",
    "    df\n",
    "    .Arrival_Time\n",
    "    .loc[lambda ser:ser.str.contains(\"[^0-9:]\")]\n",
    "    .str.split(\" \", n=1)\n",
    "    .str.get(-1)\n",
    "    .unique()\n",
    ")"
   ]
  },
  {
   "cell_type": "code",
   "execution_count": 193,
   "id": "43208770",
   "metadata": {},
   "outputs": [
    {
     "data": {
      "text/plain": [
       "0        01:10\n",
       "1        13:15\n",
       "2        04:25\n",
       "3        23:30\n",
       "4        21:35\n",
       "         ...  \n",
       "10678    22:25\n",
       "10679    23:20\n",
       "10680    11:20\n",
       "10681    14:10\n",
       "10682    19:15\n",
       "Name: Arrival_Time, Length: 10683, dtype: object"
      ]
     },
     "execution_count": 193,
     "metadata": {},
     "output_type": "execute_result"
    }
   ],
   "source": [
    "(\n",
    "    df.Arrival_Time.str.split(\" \", n=1).str[0]\n",
    ")"
   ]
  },
  {
   "cell_type": "code",
   "execution_count": 195,
   "id": "1b3a7d12",
   "metadata": {},
   "outputs": [
    {
     "data": {
      "text/plain": [
       "0        01:10:00\n",
       "1        13:15:00\n",
       "2        04:25:00\n",
       "3        23:30:00\n",
       "4        21:35:00\n",
       "           ...   \n",
       "10678    22:25:00\n",
       "10679    23:20:00\n",
       "10680    11:20:00\n",
       "10681    14:10:00\n",
       "10682    19:15:00\n",
       "Name: Arrival_Time, Length: 10683, dtype: object"
      ]
     },
     "execution_count": 195,
     "metadata": {},
     "output_type": "execute_result"
    }
   ],
   "source": [
    "pd.to_datetime(df.Arrival_Time.str.split(\" \", n=1).str[0]).dt.time"
   ]
  },
  {
   "cell_type": "markdown",
   "id": "f3e18995",
   "metadata": {},
   "source": [
    "##### DURATION"
   ]
  },
  {
   "cell_type": "code",
   "execution_count": 200,
   "id": "ef1d4c18",
   "metadata": {},
   "outputs": [
    {
     "data": {
      "text/plain": [
       "0        2h 50m\n",
       "1        7h 25m\n",
       "2           19h\n",
       "3        5h 25m\n",
       "4        4h 45m\n",
       "          ...  \n",
       "10678    2h 30m\n",
       "10679    2h 35m\n",
       "10680        3h\n",
       "10681    2h 40m\n",
       "10682    8h 20m\n",
       "Name: Duration, Length: 10683, dtype: object"
      ]
     },
     "execution_count": 200,
     "metadata": {},
     "output_type": "execute_result"
    }
   ],
   "source": [
    "df['Duration']"
   ]
  },
  {
   "cell_type": "code",
   "execution_count": 64,
   "id": "cbb2e342",
   "metadata": {},
   "outputs": [
    {
     "data": {
      "text/plain": [
       "array(['19h', '23h', '22h', '12h', '3h', '5h', '10h', '18h', '24h', '15h',\n",
       "       '16h', '8h', '14h', '20h', '13h', '11h', '9h', '27h', '26h', '4h',\n",
       "       '7h', '30h', '21h', '28h', '47h', '6h', '25h', '38h', '34h'],\n",
       "      dtype=object)"
      ]
     },
     "execution_count": 64,
     "metadata": {},
     "output_type": "execute_result"
    }
   ],
   "source": [
    "(\n",
    "    df['Duration'].loc[lambda ser: ~ser.str.contains('m')].unique()\n",
    ")"
   ]
  },
  {
   "cell_type": "code",
   "execution_count": 66,
   "id": "3f09ef63",
   "metadata": {},
   "outputs": [
    {
     "data": {
      "text/plain": [
       "array(['5m'], dtype=object)"
      ]
     },
     "execution_count": 66,
     "metadata": {},
     "output_type": "execute_result"
    }
   ],
   "source": [
    "(\n",
    "    df['Duration'].loc[lambda ser: ~ser.str.contains('h')].unique()\n",
    ")"
   ]
  },
  {
   "cell_type": "code",
   "execution_count": 67,
   "id": "fe06d560",
   "metadata": {},
   "outputs": [
    {
     "data": {
      "text/html": [
       "<div>\n",
       "<style scoped>\n",
       "    .dataframe tbody tr th:only-of-type {\n",
       "        vertical-align: middle;\n",
       "    }\n",
       "\n",
       "    .dataframe tbody tr th {\n",
       "        vertical-align: top;\n",
       "    }\n",
       "\n",
       "    .dataframe thead th {\n",
       "        text-align: right;\n",
       "    }\n",
       "</style>\n",
       "<table border=\"1\" class=\"dataframe\">\n",
       "  <thead>\n",
       "    <tr style=\"text-align: right;\">\n",
       "      <th></th>\n",
       "      <th>Airline</th>\n",
       "      <th>Date_of_Journey</th>\n",
       "      <th>Source</th>\n",
       "      <th>Destination</th>\n",
       "      <th>Route</th>\n",
       "      <th>Dep_Time</th>\n",
       "      <th>Arrival_Time</th>\n",
       "      <th>Duration</th>\n",
       "      <th>Total_Stops</th>\n",
       "      <th>Additional_Info</th>\n",
       "      <th>Price</th>\n",
       "    </tr>\n",
       "  </thead>\n",
       "  <tbody>\n",
       "    <tr>\n",
       "      <th>6474</th>\n",
       "      <td>Air India</td>\n",
       "      <td>6/03/2019</td>\n",
       "      <td>Mumbai</td>\n",
       "      <td>Hyderabad</td>\n",
       "      <td>BOM → GOI → PNQ → HYD</td>\n",
       "      <td>16:50</td>\n",
       "      <td>16:55</td>\n",
       "      <td>5m</td>\n",
       "      <td>2 stops</td>\n",
       "      <td>No info</td>\n",
       "      <td>17327</td>\n",
       "    </tr>\n",
       "  </tbody>\n",
       "</table>\n",
       "</div>"
      ],
      "text/plain": [
       "        Airline Date_of_Journey  Source Destination                  Route  \\\n",
       "6474  Air India       6/03/2019  Mumbai   Hyderabad  BOM → GOI → PNQ → HYD   \n",
       "\n",
       "     Dep_Time Arrival_Time Duration Total_Stops Additional_Info  Price  \n",
       "6474    16:50        16:55       5m     2 stops         No info  17327  "
      ]
     },
     "execution_count": 67,
     "metadata": {},
     "output_type": "execute_result"
    }
   ],
   "source": [
    "df[df['Duration'] == '5m']"
   ]
  },
  {
   "cell_type": "code",
   "execution_count": 71,
   "id": "e9753f4e",
   "metadata": {},
   "outputs": [
    {
     "data": {
      "text/plain": [
       "array(['5m'], dtype=object)"
      ]
     },
     "execution_count": 71,
     "metadata": {},
     "output_type": "execute_result"
    }
   ],
   "source": [
    "(\n",
    "    data['Duration'].loc[lambda ser: ~ser.str.contains('h')].unique()\n",
    ")"
   ]
  },
  {
   "cell_type": "code",
   "execution_count": 72,
   "id": "15d10061",
   "metadata": {},
   "outputs": [
    {
     "data": {
      "text/html": [
       "<div>\n",
       "<style scoped>\n",
       "    .dataframe tbody tr th:only-of-type {\n",
       "        vertical-align: middle;\n",
       "    }\n",
       "\n",
       "    .dataframe tbody tr th {\n",
       "        vertical-align: top;\n",
       "    }\n",
       "\n",
       "    .dataframe thead th {\n",
       "        text-align: right;\n",
       "    }\n",
       "</style>\n",
       "<table border=\"1\" class=\"dataframe\">\n",
       "  <thead>\n",
       "    <tr style=\"text-align: right;\">\n",
       "      <th></th>\n",
       "      <th>Airline</th>\n",
       "      <th>Date_of_Journey</th>\n",
       "      <th>Source</th>\n",
       "      <th>Destination</th>\n",
       "      <th>Route</th>\n",
       "      <th>Dep_Time</th>\n",
       "      <th>Arrival_Time</th>\n",
       "      <th>Duration</th>\n",
       "      <th>Total_Stops</th>\n",
       "      <th>Additional_Info</th>\n",
       "      <th>Price</th>\n",
       "      <th>Class</th>\n",
       "    </tr>\n",
       "  </thead>\n",
       "  <tbody>\n",
       "    <tr>\n",
       "      <th>0</th>\n",
       "      <td>IndiGo</td>\n",
       "      <td>24/03/2019</td>\n",
       "      <td>Banglore</td>\n",
       "      <td>New Delhi</td>\n",
       "      <td>BLR → DEL</td>\n",
       "      <td>22:20</td>\n",
       "      <td>01:10 22 Mar</td>\n",
       "      <td>2h 50m</td>\n",
       "      <td>non-stop</td>\n",
       "      <td>No info</td>\n",
       "      <td>3897</td>\n",
       "      <td>Economy</td>\n",
       "    </tr>\n",
       "    <tr>\n",
       "      <th>1</th>\n",
       "      <td>Air India</td>\n",
       "      <td>1/05/2019</td>\n",
       "      <td>Kolkata</td>\n",
       "      <td>Banglore</td>\n",
       "      <td>CCU → IXR → BBI → BLR</td>\n",
       "      <td>05:50</td>\n",
       "      <td>13:15</td>\n",
       "      <td>7h 25m</td>\n",
       "      <td>2 stops</td>\n",
       "      <td>No info</td>\n",
       "      <td>7662</td>\n",
       "      <td>Economy</td>\n",
       "    </tr>\n",
       "    <tr>\n",
       "      <th>2</th>\n",
       "      <td>Jet Airways</td>\n",
       "      <td>9/06/2019</td>\n",
       "      <td>Delhi</td>\n",
       "      <td>Cochin</td>\n",
       "      <td>DEL → LKO → BOM → COK</td>\n",
       "      <td>09:25</td>\n",
       "      <td>04:25 10 Jun</td>\n",
       "      <td>19h</td>\n",
       "      <td>2 stops</td>\n",
       "      <td>No info</td>\n",
       "      <td>13882</td>\n",
       "      <td>Economy</td>\n",
       "    </tr>\n",
       "    <tr>\n",
       "      <th>3</th>\n",
       "      <td>IndiGo</td>\n",
       "      <td>12/05/2019</td>\n",
       "      <td>Kolkata</td>\n",
       "      <td>Banglore</td>\n",
       "      <td>CCU → NAG → BLR</td>\n",
       "      <td>18:05</td>\n",
       "      <td>23:30</td>\n",
       "      <td>5h 25m</td>\n",
       "      <td>1 stop</td>\n",
       "      <td>No info</td>\n",
       "      <td>6218</td>\n",
       "      <td>Economy</td>\n",
       "    </tr>\n",
       "    <tr>\n",
       "      <th>4</th>\n",
       "      <td>IndiGo</td>\n",
       "      <td>01/03/2019</td>\n",
       "      <td>Banglore</td>\n",
       "      <td>New Delhi</td>\n",
       "      <td>BLR → NAG → DEL</td>\n",
       "      <td>16:50</td>\n",
       "      <td>21:35</td>\n",
       "      <td>4h 45m</td>\n",
       "      <td>1 stop</td>\n",
       "      <td>No info</td>\n",
       "      <td>13302</td>\n",
       "      <td>Economy</td>\n",
       "    </tr>\n",
       "    <tr>\n",
       "      <th>...</th>\n",
       "      <td>...</td>\n",
       "      <td>...</td>\n",
       "      <td>...</td>\n",
       "      <td>...</td>\n",
       "      <td>...</td>\n",
       "      <td>...</td>\n",
       "      <td>...</td>\n",
       "      <td>...</td>\n",
       "      <td>...</td>\n",
       "      <td>...</td>\n",
       "      <td>...</td>\n",
       "      <td>...</td>\n",
       "    </tr>\n",
       "    <tr>\n",
       "      <th>10678</th>\n",
       "      <td>Air Asia</td>\n",
       "      <td>9/04/2019</td>\n",
       "      <td>Kolkata</td>\n",
       "      <td>Banglore</td>\n",
       "      <td>CCU → BLR</td>\n",
       "      <td>19:55</td>\n",
       "      <td>22:25</td>\n",
       "      <td>2h 30m</td>\n",
       "      <td>non-stop</td>\n",
       "      <td>No info</td>\n",
       "      <td>4107</td>\n",
       "      <td>Economy</td>\n",
       "    </tr>\n",
       "    <tr>\n",
       "      <th>10679</th>\n",
       "      <td>Air India</td>\n",
       "      <td>27/04/2019</td>\n",
       "      <td>Kolkata</td>\n",
       "      <td>Banglore</td>\n",
       "      <td>CCU → BLR</td>\n",
       "      <td>20:45</td>\n",
       "      <td>23:20</td>\n",
       "      <td>2h 35m</td>\n",
       "      <td>non-stop</td>\n",
       "      <td>No info</td>\n",
       "      <td>4145</td>\n",
       "      <td>Economy</td>\n",
       "    </tr>\n",
       "    <tr>\n",
       "      <th>10680</th>\n",
       "      <td>Jet Airways</td>\n",
       "      <td>27/04/2019</td>\n",
       "      <td>Banglore</td>\n",
       "      <td>Delhi</td>\n",
       "      <td>BLR → DEL</td>\n",
       "      <td>08:20</td>\n",
       "      <td>11:20</td>\n",
       "      <td>3h</td>\n",
       "      <td>non-stop</td>\n",
       "      <td>No info</td>\n",
       "      <td>7229</td>\n",
       "      <td>Economy</td>\n",
       "    </tr>\n",
       "    <tr>\n",
       "      <th>10681</th>\n",
       "      <td>Vistara</td>\n",
       "      <td>01/03/2019</td>\n",
       "      <td>Banglore</td>\n",
       "      <td>New Delhi</td>\n",
       "      <td>BLR → DEL</td>\n",
       "      <td>11:30</td>\n",
       "      <td>14:10</td>\n",
       "      <td>2h 40m</td>\n",
       "      <td>non-stop</td>\n",
       "      <td>No info</td>\n",
       "      <td>12648</td>\n",
       "      <td>Economy</td>\n",
       "    </tr>\n",
       "    <tr>\n",
       "      <th>10682</th>\n",
       "      <td>Air India</td>\n",
       "      <td>9/05/2019</td>\n",
       "      <td>Delhi</td>\n",
       "      <td>Cochin</td>\n",
       "      <td>DEL → GOI → BOM → COK</td>\n",
       "      <td>10:55</td>\n",
       "      <td>19:15</td>\n",
       "      <td>8h 20m</td>\n",
       "      <td>2 stops</td>\n",
       "      <td>No info</td>\n",
       "      <td>11753</td>\n",
       "      <td>Economy</td>\n",
       "    </tr>\n",
       "  </tbody>\n",
       "</table>\n",
       "<p>10683 rows × 12 columns</p>\n",
       "</div>"
      ],
      "text/plain": [
       "           Airline Date_of_Journey    Source Destination  \\\n",
       "0           IndiGo      24/03/2019  Banglore   New Delhi   \n",
       "1        Air India       1/05/2019   Kolkata    Banglore   \n",
       "2      Jet Airways       9/06/2019     Delhi      Cochin   \n",
       "3           IndiGo      12/05/2019   Kolkata    Banglore   \n",
       "4           IndiGo      01/03/2019  Banglore   New Delhi   \n",
       "...            ...             ...       ...         ...   \n",
       "10678     Air Asia       9/04/2019   Kolkata    Banglore   \n",
       "10679    Air India      27/04/2019   Kolkata    Banglore   \n",
       "10680  Jet Airways      27/04/2019  Banglore       Delhi   \n",
       "10681      Vistara      01/03/2019  Banglore   New Delhi   \n",
       "10682    Air India       9/05/2019     Delhi      Cochin   \n",
       "\n",
       "                       Route Dep_Time  Arrival_Time Duration Total_Stops  \\\n",
       "0                  BLR → DEL    22:20  01:10 22 Mar   2h 50m    non-stop   \n",
       "1      CCU → IXR → BBI → BLR    05:50         13:15   7h 25m     2 stops   \n",
       "2      DEL → LKO → BOM → COK    09:25  04:25 10 Jun      19h     2 stops   \n",
       "3            CCU → NAG → BLR    18:05         23:30   5h 25m      1 stop   \n",
       "4            BLR → NAG → DEL    16:50         21:35   4h 45m      1 stop   \n",
       "...                      ...      ...           ...      ...         ...   \n",
       "10678              CCU → BLR    19:55         22:25   2h 30m    non-stop   \n",
       "10679              CCU → BLR    20:45         23:20   2h 35m    non-stop   \n",
       "10680              BLR → DEL    08:20         11:20       3h    non-stop   \n",
       "10681              BLR → DEL    11:30         14:10   2h 40m    non-stop   \n",
       "10682  DEL → GOI → BOM → COK    10:55         19:15   8h 20m     2 stops   \n",
       "\n",
       "      Additional_Info  Price    Class  \n",
       "0             No info   3897  Economy  \n",
       "1             No info   7662  Economy  \n",
       "2             No info  13882  Economy  \n",
       "3             No info   6218  Economy  \n",
       "4             No info  13302  Economy  \n",
       "...               ...    ...      ...  \n",
       "10678         No info   4107  Economy  \n",
       "10679         No info   4145  Economy  \n",
       "10680         No info   7229  Economy  \n",
       "10681         No info  12648  Economy  \n",
       "10682         No info  11753  Economy  \n",
       "\n",
       "[10683 rows x 12 columns]"
      ]
     },
     "execution_count": 72,
     "metadata": {},
     "output_type": "execute_result"
    }
   ],
   "source": [
    "data"
   ]
  },
  {
   "cell_type": "code",
   "execution_count": null,
   "id": "cd84057d",
   "metadata": {},
   "outputs": [],
   "source": [
    "# If we see this instance, then we can get that the person is traveling from Mumbai to Hyderabad,\n",
    "# and the duration of the journey is 5 minutes. And this thing is not logically correct, so we will just discard it."
   ]
  },
  {
   "cell_type": "code",
   "execution_count": 246,
   "id": "b71679dd",
   "metadata": {},
   "outputs": [],
   "source": [
    "durations = []\n",
    "for dura in df['Duration']:\n",
    "\n",
    "    s = dura.strip()\n",
    "    num = 0\n",
    "    hrs=\"\"\n",
    "    minute = \"\"\n",
    "    i = 0\n",
    "    while i<len(s) and (s[i]!='h'):\n",
    "        if s[i].isdigit():\n",
    "            hrs += s[i]\n",
    "        i+=1\n",
    "    if hrs:\n",
    "        num = int(hrs) * 60\n",
    "    \n",
    "    i += 2\n",
    "    \n",
    "    while i<len(s) and (s[i]!='m'):\n",
    "        if s[i].isdigit():\n",
    "            minute += s[i]\n",
    "        i+=1\n",
    "    if minute:\n",
    "        num += int(minute)      \n",
    "    durations.append(num)\n",
    "    "
   ]
  },
  {
   "cell_type": "code",
   "execution_count": 275,
   "id": "a565e83e",
   "metadata": {},
   "outputs": [
    {
     "data": {
      "text/plain": [
       "[150, 300, 45]"
      ]
     },
     "execution_count": 275,
     "metadata": {},
     "output_type": "execute_result"
    }
   ],
   "source": [
    "# converting the above code into single line code so that we can fit it inside clean_data function\n",
    "[(int(dura.split('h')[0].strip()) * 60 if 'h' in dura else 0) \n",
    "+(int(dura.split('h')[-1].split('m')[0].strip()) if 'm' in dura else 0) \n",
    " for dura in ['2h 30m', '5h', '45m']]"
   ]
  },
  {
   "cell_type": "code",
   "execution_count": 248,
   "id": "544c3d75",
   "metadata": {},
   "outputs": [
    {
     "data": {
      "text/plain": [
       "10683"
      ]
     },
     "execution_count": 248,
     "metadata": {},
     "output_type": "execute_result"
    }
   ],
   "source": [
    "len(durations)"
   ]
  },
  {
   "cell_type": "code",
   "execution_count": 249,
   "id": "8065a73c",
   "metadata": {},
   "outputs": [],
   "source": [
    "df['Duration'] = durations"
   ]
  },
  {
   "cell_type": "code",
   "execution_count": 252,
   "id": "c2731d3f",
   "metadata": {},
   "outputs": [
    {
     "data": {
      "text/html": [
       "<div>\n",
       "<style scoped>\n",
       "    .dataframe tbody tr th:only-of-type {\n",
       "        vertical-align: middle;\n",
       "    }\n",
       "\n",
       "    .dataframe tbody tr th {\n",
       "        vertical-align: top;\n",
       "    }\n",
       "\n",
       "    .dataframe thead th {\n",
       "        text-align: right;\n",
       "    }\n",
       "</style>\n",
       "<table border=\"1\" class=\"dataframe\">\n",
       "  <thead>\n",
       "    <tr style=\"text-align: right;\">\n",
       "      <th></th>\n",
       "      <th>Airline</th>\n",
       "      <th>Date_of_Journey</th>\n",
       "      <th>Source</th>\n",
       "      <th>Destination</th>\n",
       "      <th>Route</th>\n",
       "      <th>Dep_Time</th>\n",
       "      <th>Arrival_Time</th>\n",
       "      <th>Duration</th>\n",
       "      <th>Total_Stops</th>\n",
       "      <th>Additional_Info</th>\n",
       "      <th>Price</th>\n",
       "      <th>Class</th>\n",
       "    </tr>\n",
       "  </thead>\n",
       "  <tbody>\n",
       "    <tr>\n",
       "      <th>0</th>\n",
       "      <td>IndiGo</td>\n",
       "      <td>24/03/2019</td>\n",
       "      <td>Banglore</td>\n",
       "      <td>New Delhi</td>\n",
       "      <td>BLR → DEL</td>\n",
       "      <td>22:20</td>\n",
       "      <td>01:10 22 Mar</td>\n",
       "      <td>170</td>\n",
       "      <td>non-stop</td>\n",
       "      <td>No info</td>\n",
       "      <td>3897</td>\n",
       "      <td>Economy</td>\n",
       "    </tr>\n",
       "    <tr>\n",
       "      <th>1</th>\n",
       "      <td>Air India</td>\n",
       "      <td>1/05/2019</td>\n",
       "      <td>Kolkata</td>\n",
       "      <td>Banglore</td>\n",
       "      <td>CCU → IXR → BBI → BLR</td>\n",
       "      <td>05:50</td>\n",
       "      <td>13:15</td>\n",
       "      <td>445</td>\n",
       "      <td>2 stops</td>\n",
       "      <td>No info</td>\n",
       "      <td>7662</td>\n",
       "      <td>Economy</td>\n",
       "    </tr>\n",
       "    <tr>\n",
       "      <th>2</th>\n",
       "      <td>Jet Airways</td>\n",
       "      <td>9/06/2019</td>\n",
       "      <td>Delhi</td>\n",
       "      <td>Cochin</td>\n",
       "      <td>DEL → LKO → BOM → COK</td>\n",
       "      <td>09:25</td>\n",
       "      <td>04:25 10 Jun</td>\n",
       "      <td>1140</td>\n",
       "      <td>2 stops</td>\n",
       "      <td>No info</td>\n",
       "      <td>13882</td>\n",
       "      <td>Economy</td>\n",
       "    </tr>\n",
       "    <tr>\n",
       "      <th>3</th>\n",
       "      <td>IndiGo</td>\n",
       "      <td>12/05/2019</td>\n",
       "      <td>Kolkata</td>\n",
       "      <td>Banglore</td>\n",
       "      <td>CCU → NAG → BLR</td>\n",
       "      <td>18:05</td>\n",
       "      <td>23:30</td>\n",
       "      <td>325</td>\n",
       "      <td>1 stop</td>\n",
       "      <td>No info</td>\n",
       "      <td>6218</td>\n",
       "      <td>Economy</td>\n",
       "    </tr>\n",
       "    <tr>\n",
       "      <th>4</th>\n",
       "      <td>IndiGo</td>\n",
       "      <td>01/03/2019</td>\n",
       "      <td>Banglore</td>\n",
       "      <td>New Delhi</td>\n",
       "      <td>BLR → NAG → DEL</td>\n",
       "      <td>16:50</td>\n",
       "      <td>21:35</td>\n",
       "      <td>285</td>\n",
       "      <td>1 stop</td>\n",
       "      <td>No info</td>\n",
       "      <td>13302</td>\n",
       "      <td>Economy</td>\n",
       "    </tr>\n",
       "  </tbody>\n",
       "</table>\n",
       "</div>"
      ],
      "text/plain": [
       "       Airline Date_of_Journey    Source Destination                  Route  \\\n",
       "0       IndiGo      24/03/2019  Banglore   New Delhi              BLR → DEL   \n",
       "1    Air India       1/05/2019   Kolkata    Banglore  CCU → IXR → BBI → BLR   \n",
       "2  Jet Airways       9/06/2019     Delhi      Cochin  DEL → LKO → BOM → COK   \n",
       "3       IndiGo      12/05/2019   Kolkata    Banglore        CCU → NAG → BLR   \n",
       "4       IndiGo      01/03/2019  Banglore   New Delhi        BLR → NAG → DEL   \n",
       "\n",
       "  Dep_Time  Arrival_Time  Duration Total_Stops Additional_Info  Price    Class  \n",
       "0    22:20  01:10 22 Mar       170    non-stop         No info   3897  Economy  \n",
       "1    05:50         13:15       445     2 stops         No info   7662  Economy  \n",
       "2    09:25  04:25 10 Jun      1140     2 stops         No info  13882  Economy  \n",
       "3    18:05         23:30       325      1 stop         No info   6218  Economy  \n",
       "4    16:50         21:35       285      1 stop         No info  13302  Economy  "
      ]
     },
     "execution_count": 252,
     "metadata": {},
     "output_type": "execute_result"
    }
   ],
   "source": [
    "df.head()"
   ]
  },
  {
   "cell_type": "code",
   "execution_count": 270,
   "id": "f20079a4",
   "metadata": {},
   "outputs": [
    {
     "data": {
      "text/plain": [
       "[150, 300, 45]"
      ]
     },
     "execution_count": 270,
     "metadata": {},
     "output_type": "execute_result"
    }
   ],
   "source": [
    "[(int(dura.split('h')[0].strip()) * 60 if 'h' in dura else 0) \n",
    "+(int(dura.split('h')[-1].split('m')[0].strip()) if 'm' in dura else 0) \n",
    " for dura in ['2h 30m', '5h', '45m']]"
   ]
  },
  {
   "cell_type": "code",
   "execution_count": 104,
   "id": "038e417e",
   "metadata": {},
   "outputs": [
    {
     "data": {
      "text/plain": [
       "0         170\n",
       "1         445\n",
       "2        1140\n",
       "3         325\n",
       "4         285\n",
       "         ... \n",
       "10678     150\n",
       "10679     155\n",
       "10680     180\n",
       "10681     160\n",
       "10682     500\n",
       "Length: 10682, dtype: int64"
      ]
     },
     "execution_count": 104,
     "metadata": {},
     "output_type": "execute_result"
    }
   ],
   "source": [
    "# ALTERNATE METHOD TO DO THE SAME\n",
    "\n",
    "(\n",
    "    df\n",
    "    .Duration\n",
    "    .drop(index=[6474])\n",
    "    .str.split(\" \", expand = True)\n",
    "    .set_axis(['hours', 'minute'], axis = 1)\n",
    "    .assign(\n",
    "        hours = lambda df_: df_.hours.str.replace('h', \"\").astype(int).mul(60)\n",
    "    )\n",
    "    .assign(\n",
    "        minute = lambda df_: df_.minute.str.replace('m',\"\").fillna('0').astype(int)\n",
    "    )\n",
    "    .sum(axis = 1)\n",
    ")"
   ]
  },
  {
   "cell_type": "code",
   "execution_count": 112,
   "id": "61649d8e",
   "metadata": {},
   "outputs": [
    {
     "data": {
      "text/html": [
       "<div>\n",
       "<style scoped>\n",
       "    .dataframe tbody tr th:only-of-type {\n",
       "        vertical-align: middle;\n",
       "    }\n",
       "\n",
       "    .dataframe tbody tr th {\n",
       "        vertical-align: top;\n",
       "    }\n",
       "\n",
       "    .dataframe thead th {\n",
       "        text-align: right;\n",
       "    }\n",
       "</style>\n",
       "<table border=\"1\" class=\"dataframe\">\n",
       "  <thead>\n",
       "    <tr style=\"text-align: right;\">\n",
       "      <th></th>\n",
       "      <th>duration_minutes</th>\n",
       "      <th>Duration</th>\n",
       "    </tr>\n",
       "  </thead>\n",
       "  <tbody>\n",
       "    <tr>\n",
       "      <th>0</th>\n",
       "      <td>170</td>\n",
       "      <td>2h 50m</td>\n",
       "    </tr>\n",
       "    <tr>\n",
       "      <th>1</th>\n",
       "      <td>445</td>\n",
       "      <td>7h 25m</td>\n",
       "    </tr>\n",
       "    <tr>\n",
       "      <th>2</th>\n",
       "      <td>1140</td>\n",
       "      <td>19h</td>\n",
       "    </tr>\n",
       "    <tr>\n",
       "      <th>3</th>\n",
       "      <td>325</td>\n",
       "      <td>5h 25m</td>\n",
       "    </tr>\n",
       "    <tr>\n",
       "      <th>4</th>\n",
       "      <td>285</td>\n",
       "      <td>4h 45m</td>\n",
       "    </tr>\n",
       "  </tbody>\n",
       "</table>\n",
       "</div>"
      ],
      "text/plain": [
       "   duration_minutes Duration\n",
       "0               170   2h 50m\n",
       "1               445   7h 25m\n",
       "2              1140      19h\n",
       "3               325   5h 25m\n",
       "4               285   4h 45m"
      ]
     },
     "execution_count": 112,
     "metadata": {},
     "output_type": "execute_result"
    }
   ],
   "source": [
    "(\n",
    "    df\n",
    "    .Duration\n",
    "    .drop(index=[6474])\n",
    "    .str.split(\" \", expand = True)\n",
    "    .set_axis(['hours', 'minute'], axis = 1)\n",
    "    .assign(\n",
    "        hours = lambda df_: df_.hours.str.replace('h', \"\").astype(int).mul(60)\n",
    "    )\n",
    "    .assign(\n",
    "        minute = lambda df_: df_.minute.str.replace('m',\"\").fillna('0').astype(int)\n",
    "    )\n",
    "    .sum(axis = 1)\n",
    "    .rename(\"duration_minutes\")\n",
    "    .to_frame()\n",
    "    .join(df['Duration'].drop(index = 6474)).head()\n",
    ")"
   ]
  },
  {
   "cell_type": "markdown",
   "id": "8a4734d3",
   "metadata": {},
   "source": [
    "##### TOTAL_STOPS"
   ]
  },
  {
   "cell_type": "code",
   "execution_count": 129,
   "id": "2b60f788",
   "metadata": {},
   "outputs": [
    {
     "data": {
      "text/plain": [
       "array(['non-stop', '2 stops', '1 stop', '3 stops', nan, '4 stops'],\n",
       "      dtype=object)"
      ]
     },
     "execution_count": 129,
     "metadata": {},
     "output_type": "execute_result"
    }
   ],
   "source": [
    "df['Total_Stops'].unique()"
   ]
  },
  {
   "cell_type": "code",
   "execution_count": 135,
   "id": "592f6e8b",
   "metadata": {},
   "outputs": [
    {
     "data": {
      "text/plain": [
       "array([ 0.,  2.,  1.,  3., nan,  4.])"
      ]
     },
     "execution_count": 135,
     "metadata": {},
     "output_type": "execute_result"
    }
   ],
   "source": [
    "(\n",
    "    df\n",
    "    .Total_Stops\n",
    "    .str.replace(\"non-stop\", '0')\n",
    "    .str.replace(\"2 stops\", \"2\")\n",
    "    .str.replace(\"1 stop\", \"1\")\n",
    "    .str.replace(\"3 stops\", \"3\")\n",
    "    .str.replace(\"4 stops\", '4')\n",
    "    .pipe(lambda ser: pd.to_numeric(ser))\n",
    "    .unique()\n",
    ")"
   ]
  },
  {
   "cell_type": "code",
   "execution_count": 141,
   "id": "2bee228d",
   "metadata": {},
   "outputs": [
    {
     "data": {
      "text/plain": [
       "array(['No info', 'In-flight meal not included',\n",
       "       'No check-in baggage included', '1 Short layover', 'No Info',\n",
       "       '1 Long layover', 'Change airports', 'Business class',\n",
       "       'Red-eye flight', '2 Long layover'], dtype=object)"
      ]
     },
     "execution_count": 141,
     "metadata": {},
     "output_type": "execute_result"
    }
   ],
   "source": [
    "##### \n"
   ]
  },
  {
   "cell_type": "code",
   "execution_count": 146,
   "id": "3140da53",
   "metadata": {},
   "outputs": [
    {
     "data": {
      "text/plain": [
       "['No info',\n",
       " 'In-flight meal not included',\n",
       " 'No check-in baggage included',\n",
       " '1 Short layover',\n",
       " 'No Info',\n",
       " '1 Long layover',\n",
       " 'Change airports',\n",
       " 'Business class',\n",
       " 'Red-eye flight',\n",
       " '2 Long layover']"
      ]
     },
     "execution_count": 146,
     "metadata": {},
     "output_type": "execute_result"
    }
   ],
   "source": [
    "[i for i in df['Additional_Info'].unique()]"
   ]
  },
  {
   "cell_type": "code",
   "execution_count": 165,
   "id": "75f43362",
   "metadata": {},
   "outputs": [],
   "source": [
    "df = making_new_col_class(df)\n",
    "cleaned_dataset = clean_data(df)"
   ]
  },
  {
   "cell_type": "code",
   "execution_count": 166,
   "id": "6e557071",
   "metadata": {},
   "outputs": [
    {
     "data": {
      "text/plain": [
       "array(['Economy', 'Premium economy', 'Business'], dtype=object)"
      ]
     },
     "execution_count": 166,
     "metadata": {},
     "output_type": "execute_result"
    }
   ],
   "source": [
    "cleaned_dataset['class'].unique()"
   ]
  },
  {
   "cell_type": "code",
   "execution_count": 167,
   "id": "9b40bf6e",
   "metadata": {},
   "outputs": [],
   "source": [
    "cleaned_dataset.to_csv(\"cleaned_dataset_final.csv\",index = False)"
   ]
  },
  {
   "cell_type": "code",
   "execution_count": 168,
   "id": "86399c1d",
   "metadata": {},
   "outputs": [
    {
     "data": {
      "text/plain": [
       "array(['Economy', 'Premium economy', 'Business'], dtype=object)"
      ]
     },
     "execution_count": 168,
     "metadata": {},
     "output_type": "execute_result"
    }
   ],
   "source": [
    "cleaned_dataset['class'].unique()"
   ]
  },
  {
   "cell_type": "code",
   "execution_count": 169,
   "id": "e36830ff",
   "metadata": {},
   "outputs": [
    {
     "data": {
      "text/plain": [
       "array(['IndiGo', 'Air India', 'Jet Airways', 'SpiceJet',\n",
       "       'Multiple carriers', 'GoAir', 'Vistara', 'Air Asia', 'Trujet'],\n",
       "      dtype=object)"
      ]
     },
     "execution_count": 169,
     "metadata": {},
     "output_type": "execute_result"
    }
   ],
   "source": [
    "cleaned_dataset['airline'].unique()"
   ]
  },
  {
   "cell_type": "code",
   "execution_count": 171,
   "id": "367be0ad",
   "metadata": {},
   "outputs": [
    {
     "data": {
      "text/html": [
       "<div>\n",
       "<style scoped>\n",
       "    .dataframe tbody tr th:only-of-type {\n",
       "        vertical-align: middle;\n",
       "    }\n",
       "\n",
       "    .dataframe tbody tr th {\n",
       "        vertical-align: top;\n",
       "    }\n",
       "\n",
       "    .dataframe thead th {\n",
       "        text-align: right;\n",
       "    }\n",
       "</style>\n",
       "<table border=\"1\" class=\"dataframe\">\n",
       "  <thead>\n",
       "    <tr style=\"text-align: right;\">\n",
       "      <th></th>\n",
       "      <th>airline</th>\n",
       "      <th>date_of_journey</th>\n",
       "      <th>source</th>\n",
       "      <th>destination</th>\n",
       "      <th>dep_time</th>\n",
       "      <th>arrival_time</th>\n",
       "      <th>duration</th>\n",
       "      <th>total_stops</th>\n",
       "      <th>additional_info</th>\n",
       "      <th>price</th>\n",
       "      <th>class</th>\n",
       "    </tr>\n",
       "  </thead>\n",
       "  <tbody>\n",
       "    <tr>\n",
       "      <th>0</th>\n",
       "      <td>IndiGo</td>\n",
       "      <td>2019-03-24</td>\n",
       "      <td>Banglore</td>\n",
       "      <td>New Delhi</td>\n",
       "      <td>22:20:00</td>\n",
       "      <td>01:10:00</td>\n",
       "      <td>170</td>\n",
       "      <td>0.0</td>\n",
       "      <td>No Info</td>\n",
       "      <td>3897</td>\n",
       "      <td>Economy</td>\n",
       "    </tr>\n",
       "    <tr>\n",
       "      <th>1</th>\n",
       "      <td>Air India</td>\n",
       "      <td>2019-05-01</td>\n",
       "      <td>Kolkata</td>\n",
       "      <td>Banglore</td>\n",
       "      <td>05:50:00</td>\n",
       "      <td>13:15:00</td>\n",
       "      <td>445</td>\n",
       "      <td>2.0</td>\n",
       "      <td>No Info</td>\n",
       "      <td>7662</td>\n",
       "      <td>Economy</td>\n",
       "    </tr>\n",
       "    <tr>\n",
       "      <th>2</th>\n",
       "      <td>Jet Airways</td>\n",
       "      <td>2019-06-09</td>\n",
       "      <td>Delhi</td>\n",
       "      <td>Cochin</td>\n",
       "      <td>09:25:00</td>\n",
       "      <td>04:25:00</td>\n",
       "      <td>1140</td>\n",
       "      <td>2.0</td>\n",
       "      <td>No Info</td>\n",
       "      <td>13882</td>\n",
       "      <td>Economy</td>\n",
       "    </tr>\n",
       "    <tr>\n",
       "      <th>3</th>\n",
       "      <td>IndiGo</td>\n",
       "      <td>2019-05-12</td>\n",
       "      <td>Kolkata</td>\n",
       "      <td>Banglore</td>\n",
       "      <td>18:05:00</td>\n",
       "      <td>23:30:00</td>\n",
       "      <td>325</td>\n",
       "      <td>1.0</td>\n",
       "      <td>No Info</td>\n",
       "      <td>6218</td>\n",
       "      <td>Economy</td>\n",
       "    </tr>\n",
       "    <tr>\n",
       "      <th>4</th>\n",
       "      <td>IndiGo</td>\n",
       "      <td>2019-03-01</td>\n",
       "      <td>Banglore</td>\n",
       "      <td>New Delhi</td>\n",
       "      <td>16:50:00</td>\n",
       "      <td>21:35:00</td>\n",
       "      <td>285</td>\n",
       "      <td>1.0</td>\n",
       "      <td>No Info</td>\n",
       "      <td>13302</td>\n",
       "      <td>Economy</td>\n",
       "    </tr>\n",
       "  </tbody>\n",
       "</table>\n",
       "</div>"
      ],
      "text/plain": [
       "       airline date_of_journey    source destination  dep_time arrival_time  \\\n",
       "0       IndiGo      2019-03-24  Banglore   New Delhi  22:20:00     01:10:00   \n",
       "1    Air India      2019-05-01   Kolkata    Banglore  05:50:00     13:15:00   \n",
       "2  Jet Airways      2019-06-09     Delhi      Cochin  09:25:00     04:25:00   \n",
       "3       IndiGo      2019-05-12   Kolkata    Banglore  18:05:00     23:30:00   \n",
       "4       IndiGo      2019-03-01  Banglore   New Delhi  16:50:00     21:35:00   \n",
       "\n",
       "   duration  total_stops additional_info  price    class  \n",
       "0       170          0.0         No Info   3897  Economy  \n",
       "1       445          2.0         No Info   7662  Economy  \n",
       "2      1140          2.0         No Info  13882  Economy  \n",
       "3       325          1.0         No Info   6218  Economy  \n",
       "4       285          1.0         No Info  13302  Economy  "
      ]
     },
     "execution_count": 171,
     "metadata": {},
     "output_type": "execute_result"
    }
   ],
   "source": [
    "cleaned_dataset.head()"
   ]
  },
  {
   "cell_type": "markdown",
   "id": "330c8877",
   "metadata": {},
   "source": [
    "### 6. SPLITING THE DATA"
   ]
  },
  {
   "cell_type": "code",
   "execution_count": 172,
   "id": "64ca588a",
   "metadata": {},
   "outputs": [],
   "source": [
    "x = cleaned_dataset.drop(columns='price')\n",
    "y = cleaned_dataset['price']"
   ]
  },
  {
   "cell_type": "code",
   "execution_count": 174,
   "id": "a1b6720a",
   "metadata": {},
   "outputs": [],
   "source": [
    "from sklearn.model_selection import train_test_split"
   ]
  },
  {
   "cell_type": "code",
   "execution_count": 175,
   "id": "ce5af9c0",
   "metadata": {},
   "outputs": [],
   "source": [
    "X_, X_test, Y_, Y_test = train_test_split(x, y, test_size = 0.2, random_state=101)"
   ]
  },
  {
   "cell_type": "code",
   "execution_count": 176,
   "id": "ec979fd9",
   "metadata": {},
   "outputs": [],
   "source": [
    "X_train, X_val, Y_train, Y_val = train_test_split(X_, Y_, test_size=0.2, random_state=101)"
   ]
  },
  {
   "cell_type": "code",
   "execution_count": 177,
   "id": "37ee5a02",
   "metadata": {},
   "outputs": [
    {
     "name": "stdout",
     "output_type": "stream",
     "text": [
      "The Shape of X_train: (6695, 10)\n",
      "The Shape of X_test: (2093, 10)\n",
      "The Shape of X_val: (1674, 10)\n",
      "The Shape of Y_test: (2093,)\n",
      "The Shape of Y_train: (6695,)\n",
      "The Shape of Y_val: (1674,)\n"
     ]
    }
   ],
   "source": [
    "print(\"The Shape of X_train:\", X_train.shape)\n",
    "print(\"The Shape of X_test:\", X_test.shape)\n",
    "print(\"The Shape of X_val:\", X_val.shape)\n",
    "print(\"The Shape of Y_test:\", Y_test.shape)\n",
    "print(\"The Shape of Y_train:\", Y_train.shape)\n",
    "print(\"The Shape of Y_val:\", Y_val.shape)"
   ]
  },
  {
   "cell_type": "code",
   "execution_count": null,
   "id": "6ab75ae2",
   "metadata": {},
   "outputs": [],
   "source": []
  },
  {
   "cell_type": "code",
   "execution_count": 180,
   "id": "1fa73f8d",
   "metadata": {},
   "outputs": [],
   "source": [
    "PROJECT_DIR = r\"C:\\Users\\shrey\\Desktop\\Flight_Price_prediction\"\n",
    "DATA_DIR = \"Data\""
   ]
  },
  {
   "cell_type": "code",
   "execution_count": 182,
   "id": "ecfa3c0e",
   "metadata": {},
   "outputs": [],
   "source": [
    "def export_data(X, Y, name):\n",
    "    file_name = f\"{name}.csv\"\n",
    "    file_path = os.path.join(PROJECT_DIR, DATA_DIR, file_name)\n",
    "    \n",
    "    X.join(Y).to_csv(file_path, index = False)\n",
    "    return pd.read_csv(file_path).head()"
   ]
  },
  {
   "cell_type": "code",
   "execution_count": 183,
   "id": "9e5b54a6",
   "metadata": {},
   "outputs": [
    {
     "data": {
      "text/html": [
       "<div>\n",
       "<style scoped>\n",
       "    .dataframe tbody tr th:only-of-type {\n",
       "        vertical-align: middle;\n",
       "    }\n",
       "\n",
       "    .dataframe tbody tr th {\n",
       "        vertical-align: top;\n",
       "    }\n",
       "\n",
       "    .dataframe thead th {\n",
       "        text-align: right;\n",
       "    }\n",
       "</style>\n",
       "<table border=\"1\" class=\"dataframe\">\n",
       "  <thead>\n",
       "    <tr style=\"text-align: right;\">\n",
       "      <th></th>\n",
       "      <th>airline</th>\n",
       "      <th>date_of_journey</th>\n",
       "      <th>source</th>\n",
       "      <th>destination</th>\n",
       "      <th>dep_time</th>\n",
       "      <th>arrival_time</th>\n",
       "      <th>duration</th>\n",
       "      <th>total_stops</th>\n",
       "      <th>additional_info</th>\n",
       "      <th>class</th>\n",
       "      <th>price</th>\n",
       "    </tr>\n",
       "  </thead>\n",
       "  <tbody>\n",
       "    <tr>\n",
       "      <th>0</th>\n",
       "      <td>IndiGo</td>\n",
       "      <td>2019-05-09</td>\n",
       "      <td>Delhi</td>\n",
       "      <td>Cochin</td>\n",
       "      <td>06:50:00</td>\n",
       "      <td>16:10:00</td>\n",
       "      <td>560</td>\n",
       "      <td>1.0</td>\n",
       "      <td>No Info</td>\n",
       "      <td>Economy</td>\n",
       "      <td>6442</td>\n",
       "    </tr>\n",
       "    <tr>\n",
       "      <th>1</th>\n",
       "      <td>Air India</td>\n",
       "      <td>2019-04-03</td>\n",
       "      <td>Mumbai</td>\n",
       "      <td>Hyderabad</td>\n",
       "      <td>06:20:00</td>\n",
       "      <td>07:40:00</td>\n",
       "      <td>80</td>\n",
       "      <td>0.0</td>\n",
       "      <td>No Info</td>\n",
       "      <td>Economy</td>\n",
       "      <td>3100</td>\n",
       "    </tr>\n",
       "    <tr>\n",
       "      <th>2</th>\n",
       "      <td>SpiceJet</td>\n",
       "      <td>2019-05-15</td>\n",
       "      <td>Kolkata</td>\n",
       "      <td>Banglore</td>\n",
       "      <td>11:15:00</td>\n",
       "      <td>18:30:00</td>\n",
       "      <td>435</td>\n",
       "      <td>1.0</td>\n",
       "      <td>No Info</td>\n",
       "      <td>Economy</td>\n",
       "      <td>8844</td>\n",
       "    </tr>\n",
       "    <tr>\n",
       "      <th>3</th>\n",
       "      <td>Jet Airways</td>\n",
       "      <td>2019-06-09</td>\n",
       "      <td>Delhi</td>\n",
       "      <td>Cochin</td>\n",
       "      <td>19:45:00</td>\n",
       "      <td>12:35:00</td>\n",
       "      <td>1010</td>\n",
       "      <td>1.0</td>\n",
       "      <td>In-flight meal not included</td>\n",
       "      <td>Economy</td>\n",
       "      <td>10577</td>\n",
       "    </tr>\n",
       "    <tr>\n",
       "      <th>4</th>\n",
       "      <td>Jet Airways</td>\n",
       "      <td>2019-06-18</td>\n",
       "      <td>Delhi</td>\n",
       "      <td>Cochin</td>\n",
       "      <td>09:50:00</td>\n",
       "      <td>13:05:00</td>\n",
       "      <td>195</td>\n",
       "      <td>0.0</td>\n",
       "      <td>No Info</td>\n",
       "      <td>Economy</td>\n",
       "      <td>9564</td>\n",
       "    </tr>\n",
       "  </tbody>\n",
       "</table>\n",
       "</div>"
      ],
      "text/plain": [
       "       airline date_of_journey   source destination  dep_time arrival_time  \\\n",
       "0       IndiGo      2019-05-09    Delhi      Cochin  06:50:00     16:10:00   \n",
       "1    Air India      2019-04-03   Mumbai   Hyderabad  06:20:00     07:40:00   \n",
       "2     SpiceJet      2019-05-15  Kolkata    Banglore  11:15:00     18:30:00   \n",
       "3  Jet Airways      2019-06-09    Delhi      Cochin  19:45:00     12:35:00   \n",
       "4  Jet Airways      2019-06-18    Delhi      Cochin  09:50:00     13:05:00   \n",
       "\n",
       "   duration  total_stops              additional_info    class  price  \n",
       "0       560          1.0                      No Info  Economy   6442  \n",
       "1        80          0.0                      No Info  Economy   3100  \n",
       "2       435          1.0                      No Info  Economy   8844  \n",
       "3      1010          1.0  In-flight meal not included  Economy  10577  \n",
       "4       195          0.0                      No Info  Economy   9564  "
      ]
     },
     "execution_count": 183,
     "metadata": {},
     "output_type": "execute_result"
    }
   ],
   "source": [
    "export_data(X_train, Y_train, \"Train\")"
   ]
  },
  {
   "cell_type": "code",
   "execution_count": 184,
   "id": "7c5c3f3d",
   "metadata": {},
   "outputs": [
    {
     "data": {
      "text/html": [
       "<div>\n",
       "<style scoped>\n",
       "    .dataframe tbody tr th:only-of-type {\n",
       "        vertical-align: middle;\n",
       "    }\n",
       "\n",
       "    .dataframe tbody tr th {\n",
       "        vertical-align: top;\n",
       "    }\n",
       "\n",
       "    .dataframe thead th {\n",
       "        text-align: right;\n",
       "    }\n",
       "</style>\n",
       "<table border=\"1\" class=\"dataframe\">\n",
       "  <thead>\n",
       "    <tr style=\"text-align: right;\">\n",
       "      <th></th>\n",
       "      <th>airline</th>\n",
       "      <th>date_of_journey</th>\n",
       "      <th>source</th>\n",
       "      <th>destination</th>\n",
       "      <th>dep_time</th>\n",
       "      <th>arrival_time</th>\n",
       "      <th>duration</th>\n",
       "      <th>total_stops</th>\n",
       "      <th>additional_info</th>\n",
       "      <th>class</th>\n",
       "      <th>price</th>\n",
       "    </tr>\n",
       "  </thead>\n",
       "  <tbody>\n",
       "    <tr>\n",
       "      <th>0</th>\n",
       "      <td>SpiceJet</td>\n",
       "      <td>2019-03-09</td>\n",
       "      <td>Chennai</td>\n",
       "      <td>Kolkata</td>\n",
       "      <td>08:20:00</td>\n",
       "      <td>10:35:00</td>\n",
       "      <td>135</td>\n",
       "      <td>0.0</td>\n",
       "      <td>No Info</td>\n",
       "      <td>Economy</td>\n",
       "      <td>6300</td>\n",
       "    </tr>\n",
       "    <tr>\n",
       "      <th>1</th>\n",
       "      <td>Jet Airways</td>\n",
       "      <td>2019-05-27</td>\n",
       "      <td>Delhi</td>\n",
       "      <td>Cochin</td>\n",
       "      <td>13:25:00</td>\n",
       "      <td>04:25:00</td>\n",
       "      <td>900</td>\n",
       "      <td>2.0</td>\n",
       "      <td>No Info</td>\n",
       "      <td>Economy</td>\n",
       "      <td>16704</td>\n",
       "    </tr>\n",
       "    <tr>\n",
       "      <th>2</th>\n",
       "      <td>Multiple carriers</td>\n",
       "      <td>2019-05-09</td>\n",
       "      <td>Delhi</td>\n",
       "      <td>Cochin</td>\n",
       "      <td>11:30:00</td>\n",
       "      <td>01:30:00</td>\n",
       "      <td>840</td>\n",
       "      <td>1.0</td>\n",
       "      <td>No Info</td>\n",
       "      <td>Economy</td>\n",
       "      <td>15078</td>\n",
       "    </tr>\n",
       "    <tr>\n",
       "      <th>3</th>\n",
       "      <td>IndiGo</td>\n",
       "      <td>2019-06-18</td>\n",
       "      <td>Kolkata</td>\n",
       "      <td>Banglore</td>\n",
       "      <td>21:25:00</td>\n",
       "      <td>00:05:00</td>\n",
       "      <td>160</td>\n",
       "      <td>0.0</td>\n",
       "      <td>No Info</td>\n",
       "      <td>Economy</td>\n",
       "      <td>4804</td>\n",
       "    </tr>\n",
       "    <tr>\n",
       "      <th>4</th>\n",
       "      <td>Multiple carriers</td>\n",
       "      <td>2019-05-21</td>\n",
       "      <td>Delhi</td>\n",
       "      <td>Cochin</td>\n",
       "      <td>14:00:00</td>\n",
       "      <td>21:00:00</td>\n",
       "      <td>420</td>\n",
       "      <td>1.0</td>\n",
       "      <td>No Info</td>\n",
       "      <td>Economy</td>\n",
       "      <td>14067</td>\n",
       "    </tr>\n",
       "  </tbody>\n",
       "</table>\n",
       "</div>"
      ],
      "text/plain": [
       "             airline date_of_journey   source destination  dep_time  \\\n",
       "0           SpiceJet      2019-03-09  Chennai     Kolkata  08:20:00   \n",
       "1        Jet Airways      2019-05-27    Delhi      Cochin  13:25:00   \n",
       "2  Multiple carriers      2019-05-09    Delhi      Cochin  11:30:00   \n",
       "3             IndiGo      2019-06-18  Kolkata    Banglore  21:25:00   \n",
       "4  Multiple carriers      2019-05-21    Delhi      Cochin  14:00:00   \n",
       "\n",
       "  arrival_time  duration  total_stops additional_info    class  price  \n",
       "0     10:35:00       135          0.0         No Info  Economy   6300  \n",
       "1     04:25:00       900          2.0         No Info  Economy  16704  \n",
       "2     01:30:00       840          1.0         No Info  Economy  15078  \n",
       "3     00:05:00       160          0.0         No Info  Economy   4804  \n",
       "4     21:00:00       420          1.0         No Info  Economy  14067  "
      ]
     },
     "execution_count": 184,
     "metadata": {},
     "output_type": "execute_result"
    }
   ],
   "source": [
    "export_data(X_test, Y_test, \"Test\")"
   ]
  },
  {
   "cell_type": "code",
   "execution_count": 185,
   "id": "06a14fd5",
   "metadata": {},
   "outputs": [
    {
     "data": {
      "text/html": [
       "<div>\n",
       "<style scoped>\n",
       "    .dataframe tbody tr th:only-of-type {\n",
       "        vertical-align: middle;\n",
       "    }\n",
       "\n",
       "    .dataframe tbody tr th {\n",
       "        vertical-align: top;\n",
       "    }\n",
       "\n",
       "    .dataframe thead th {\n",
       "        text-align: right;\n",
       "    }\n",
       "</style>\n",
       "<table border=\"1\" class=\"dataframe\">\n",
       "  <thead>\n",
       "    <tr style=\"text-align: right;\">\n",
       "      <th></th>\n",
       "      <th>airline</th>\n",
       "      <th>date_of_journey</th>\n",
       "      <th>source</th>\n",
       "      <th>destination</th>\n",
       "      <th>dep_time</th>\n",
       "      <th>arrival_time</th>\n",
       "      <th>duration</th>\n",
       "      <th>total_stops</th>\n",
       "      <th>additional_info</th>\n",
       "      <th>class</th>\n",
       "      <th>price</th>\n",
       "    </tr>\n",
       "  </thead>\n",
       "  <tbody>\n",
       "    <tr>\n",
       "      <th>0</th>\n",
       "      <td>SpiceJet</td>\n",
       "      <td>2019-06-01</td>\n",
       "      <td>Banglore</td>\n",
       "      <td>Delhi</td>\n",
       "      <td>05:55:00</td>\n",
       "      <td>08:35:00</td>\n",
       "      <td>160</td>\n",
       "      <td>0.0</td>\n",
       "      <td>No Info</td>\n",
       "      <td>Economy</td>\n",
       "      <td>3625</td>\n",
       "    </tr>\n",
       "    <tr>\n",
       "      <th>1</th>\n",
       "      <td>Jet Airways</td>\n",
       "      <td>2019-06-21</td>\n",
       "      <td>Banglore</td>\n",
       "      <td>Delhi</td>\n",
       "      <td>17:45:00</td>\n",
       "      <td>20:45:00</td>\n",
       "      <td>180</td>\n",
       "      <td>0.0</td>\n",
       "      <td>In-flight meal not included</td>\n",
       "      <td>Economy</td>\n",
       "      <td>7754</td>\n",
       "    </tr>\n",
       "    <tr>\n",
       "      <th>2</th>\n",
       "      <td>Jet Airways</td>\n",
       "      <td>2019-03-12</td>\n",
       "      <td>Banglore</td>\n",
       "      <td>New Delhi</td>\n",
       "      <td>05:45:00</td>\n",
       "      <td>20:20:00</td>\n",
       "      <td>875</td>\n",
       "      <td>1.0</td>\n",
       "      <td>No Info</td>\n",
       "      <td>Economy</td>\n",
       "      <td>13817</td>\n",
       "    </tr>\n",
       "    <tr>\n",
       "      <th>3</th>\n",
       "      <td>Jet Airways</td>\n",
       "      <td>2019-06-12</td>\n",
       "      <td>Mumbai</td>\n",
       "      <td>Hyderabad</td>\n",
       "      <td>19:35:00</td>\n",
       "      <td>21:05:00</td>\n",
       "      <td>90</td>\n",
       "      <td>0.0</td>\n",
       "      <td>No Info</td>\n",
       "      <td>Economy</td>\n",
       "      <td>5678</td>\n",
       "    </tr>\n",
       "    <tr>\n",
       "      <th>4</th>\n",
       "      <td>Jet Airways</td>\n",
       "      <td>2019-06-27</td>\n",
       "      <td>Delhi</td>\n",
       "      <td>Cochin</td>\n",
       "      <td>15:00:00</td>\n",
       "      <td>12:35:00</td>\n",
       "      <td>1295</td>\n",
       "      <td>1.0</td>\n",
       "      <td>In-flight meal not included</td>\n",
       "      <td>Economy</td>\n",
       "      <td>10262</td>\n",
       "    </tr>\n",
       "  </tbody>\n",
       "</table>\n",
       "</div>"
      ],
      "text/plain": [
       "       airline date_of_journey    source destination  dep_time arrival_time  \\\n",
       "0     SpiceJet      2019-06-01  Banglore       Delhi  05:55:00     08:35:00   \n",
       "1  Jet Airways      2019-06-21  Banglore       Delhi  17:45:00     20:45:00   \n",
       "2  Jet Airways      2019-03-12  Banglore   New Delhi  05:45:00     20:20:00   \n",
       "3  Jet Airways      2019-06-12    Mumbai   Hyderabad  19:35:00     21:05:00   \n",
       "4  Jet Airways      2019-06-27     Delhi      Cochin  15:00:00     12:35:00   \n",
       "\n",
       "   duration  total_stops              additional_info    class  price  \n",
       "0       160          0.0                      No Info  Economy   3625  \n",
       "1       180          0.0  In-flight meal not included  Economy   7754  \n",
       "2       875          1.0                      No Info  Economy  13817  \n",
       "3        90          0.0                      No Info  Economy   5678  \n",
       "4      1295          1.0  In-flight meal not included  Economy  10262  "
      ]
     },
     "execution_count": 185,
     "metadata": {},
     "output_type": "execute_result"
    }
   ],
   "source": [
    "export_data(X_val, Y_val, \"Validation\")"
   ]
  },
  {
   "cell_type": "code",
   "execution_count": 186,
   "id": "a40b1177",
   "metadata": {},
   "outputs": [
    {
     "data": {
      "text/html": [
       "<div>\n",
       "<style scoped>\n",
       "    .dataframe tbody tr th:only-of-type {\n",
       "        vertical-align: middle;\n",
       "    }\n",
       "\n",
       "    .dataframe tbody tr th {\n",
       "        vertical-align: top;\n",
       "    }\n",
       "\n",
       "    .dataframe thead th {\n",
       "        text-align: right;\n",
       "    }\n",
       "</style>\n",
       "<table border=\"1\" class=\"dataframe\">\n",
       "  <thead>\n",
       "    <tr style=\"text-align: right;\">\n",
       "      <th></th>\n",
       "      <th>airline</th>\n",
       "      <th>date_of_journey</th>\n",
       "      <th>source</th>\n",
       "      <th>destination</th>\n",
       "      <th>dep_time</th>\n",
       "      <th>arrival_time</th>\n",
       "      <th>duration</th>\n",
       "      <th>total_stops</th>\n",
       "      <th>additional_info</th>\n",
       "      <th>class</th>\n",
       "      <th>price</th>\n",
       "    </tr>\n",
       "  </thead>\n",
       "  <tbody>\n",
       "    <tr>\n",
       "      <th>0</th>\n",
       "      <td>IndiGo</td>\n",
       "      <td>2019-03-24</td>\n",
       "      <td>Banglore</td>\n",
       "      <td>New Delhi</td>\n",
       "      <td>22:20:00</td>\n",
       "      <td>01:10:00</td>\n",
       "      <td>170</td>\n",
       "      <td>0.0</td>\n",
       "      <td>No Info</td>\n",
       "      <td>Economy</td>\n",
       "      <td>3897</td>\n",
       "    </tr>\n",
       "    <tr>\n",
       "      <th>1</th>\n",
       "      <td>Air India</td>\n",
       "      <td>2019-05-01</td>\n",
       "      <td>Kolkata</td>\n",
       "      <td>Banglore</td>\n",
       "      <td>05:50:00</td>\n",
       "      <td>13:15:00</td>\n",
       "      <td>445</td>\n",
       "      <td>2.0</td>\n",
       "      <td>No Info</td>\n",
       "      <td>Economy</td>\n",
       "      <td>7662</td>\n",
       "    </tr>\n",
       "    <tr>\n",
       "      <th>2</th>\n",
       "      <td>Jet Airways</td>\n",
       "      <td>2019-06-09</td>\n",
       "      <td>Delhi</td>\n",
       "      <td>Cochin</td>\n",
       "      <td>09:25:00</td>\n",
       "      <td>04:25:00</td>\n",
       "      <td>1140</td>\n",
       "      <td>2.0</td>\n",
       "      <td>No Info</td>\n",
       "      <td>Economy</td>\n",
       "      <td>13882</td>\n",
       "    </tr>\n",
       "    <tr>\n",
       "      <th>3</th>\n",
       "      <td>IndiGo</td>\n",
       "      <td>2019-05-12</td>\n",
       "      <td>Kolkata</td>\n",
       "      <td>Banglore</td>\n",
       "      <td>18:05:00</td>\n",
       "      <td>23:30:00</td>\n",
       "      <td>325</td>\n",
       "      <td>1.0</td>\n",
       "      <td>No Info</td>\n",
       "      <td>Economy</td>\n",
       "      <td>6218</td>\n",
       "    </tr>\n",
       "    <tr>\n",
       "      <th>4</th>\n",
       "      <td>IndiGo</td>\n",
       "      <td>2019-03-01</td>\n",
       "      <td>Banglore</td>\n",
       "      <td>New Delhi</td>\n",
       "      <td>16:50:00</td>\n",
       "      <td>21:35:00</td>\n",
       "      <td>285</td>\n",
       "      <td>1.0</td>\n",
       "      <td>No Info</td>\n",
       "      <td>Economy</td>\n",
       "      <td>13302</td>\n",
       "    </tr>\n",
       "  </tbody>\n",
       "</table>\n",
       "</div>"
      ],
      "text/plain": [
       "       airline date_of_journey    source destination  dep_time arrival_time  \\\n",
       "0       IndiGo      2019-03-24  Banglore   New Delhi  22:20:00     01:10:00   \n",
       "1    Air India      2019-05-01   Kolkata    Banglore  05:50:00     13:15:00   \n",
       "2  Jet Airways      2019-06-09     Delhi      Cochin  09:25:00     04:25:00   \n",
       "3       IndiGo      2019-05-12   Kolkata    Banglore  18:05:00     23:30:00   \n",
       "4       IndiGo      2019-03-01  Banglore   New Delhi  16:50:00     21:35:00   \n",
       "\n",
       "   duration  total_stops additional_info    class  price  \n",
       "0       170          0.0         No Info  Economy   3897  \n",
       "1       445          2.0         No Info  Economy   7662  \n",
       "2      1140          2.0         No Info  Economy  13882  \n",
       "3       325          1.0         No Info  Economy   6218  \n",
       "4       285          1.0         No Info  Economy  13302  "
      ]
     },
     "execution_count": 186,
     "metadata": {},
     "output_type": "execute_result"
    }
   ],
   "source": [
    "export_data(x, y, \"cleaned_dataset\")"
   ]
  },
  {
   "cell_type": "code",
   "execution_count": null,
   "id": "41ee152e",
   "metadata": {},
   "outputs": [],
   "source": [
    "class RBFPercentileSimilarity(BaseEstimator, TransformerMixin):\n",
    "\tdef __init__(self, variables=None, percentiles=[0.25, 0.5, 0.75], gamma=0.1):\n",
    "\t\tself.variables = variables\n",
    "\t\tself.percentiles = percentiles\n",
    "\t\tself.gamma = gamma\n",
    "\n",
    "\n",
    "\tdef fit(self, X, y=None):\n",
    "\t\tif not self.variables:\n",
    "\t\t\tself.variables = X.select_dtypes(include=\"number\").columns.to_list()\n",
    "\n",
    "\t\tself.reference_values_ = {\n",
    "\t\t\tcol: (\n",
    "\t\t\t\tX\n",
    "\t\t\t\t.loc[:, col]\n",
    "\t\t\t\t.quantile(self.percentiles)\n",
    "\t\t\t\t.values\n",
    "\t\t\t\t.reshape(-1, 1)\n",
    "\t\t\t)\n",
    "\t\t\tfor col in self.variables\n",
    "\t\t}\n",
    "\n",
    "\t\treturn self\n",
    "\n",
    "\n",
    "\tdef transform(self, X):\n",
    "\t\tobjects = []\n",
    "\t\tfor col in self.variables:\n",
    "\t\t\tcolumns = [f\"{col}_rbf_{int(percentile * 100)}\" for percentile in self.percentiles]\n",
    "\t\t\tobj = pd.DataFrame(\n",
    "\t\t\t\tdata=rbf_kernel(X.loc[:, [col]], Y=self.reference_values_[col], gamma=self.gamma),\n",
    "\t\t\t\tcolumns=columns\n",
    "\t\t\t)\n",
    "\t\t\tobjects.append(obj)\n",
    "\t\treturn pd.concat(objects, axis=1)"
   ]
  }
 ],
 "metadata": {
  "kernelspec": {
   "display_name": "Python 3 (ipykernel)",
   "language": "python",
   "name": "python3"
  },
  "language_info": {
   "codemirror_mode": {
    "name": "ipython",
    "version": 3
   },
   "file_extension": ".py",
   "mimetype": "text/x-python",
   "name": "python",
   "nbconvert_exporter": "python",
   "pygments_lexer": "ipython3",
   "version": "3.10.9"
  }
 },
 "nbformat": 4,
 "nbformat_minor": 5
}
